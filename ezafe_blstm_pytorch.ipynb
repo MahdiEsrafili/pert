{
  "cells": [
    {
      "cell_type": "markdown",
      "metadata": {
        "id": "view-in-github",
        "colab_type": "text"
      },
      "source": [
        "<a href=\"https://colab.research.google.com/github/MahdiEsrafili/pert/blob/master/ezafe_blstm_pytorch.ipynb\" target=\"_parent\"><img src=\"https://colab.research.google.com/assets/colab-badge.svg\" alt=\"Open In Colab\"/></a>"
      ]
    },
    {
      "cell_type": "code",
      "source": [
        "from gensim import __version__\n",
        "__version__"
      ],
      "metadata": {
        "id": "Ed7EqLaDICw2",
        "outputId": "6fb366e2-8783-4566-98ed-76f8d677d3ad",
        "colab": {
          "base_uri": "https://localhost:8080/",
          "height": 35
        }
      },
      "execution_count": 1,
      "outputs": [
        {
          "output_type": "execute_result",
          "data": {
            "text/plain": [
              "'3.6.0'"
            ],
            "application/vnd.google.colaboratory.intrinsic+json": {
              "type": "string"
            }
          },
          "metadata": {},
          "execution_count": 1
        }
      ]
    },
    {
      "cell_type": "code",
      "execution_count": 2,
      "metadata": {
        "colab": {
          "base_uri": "https://localhost:8080/"
        },
        "id": "Fk2oqX4CHbHt",
        "outputId": "c21e3465-36f2-4136-95d4-1af6818162f0"
      },
      "outputs": [
        {
          "output_type": "stream",
          "name": "stdout",
          "text": [
            "Mounted at /content/drive\n"
          ]
        }
      ],
      "source": [
        "from google.colab import drive\n",
        "drive.mount('/content/drive')"
      ]
    },
    {
      "cell_type": "code",
      "execution_count": 3,
      "metadata": {
        "colab": {
          "base_uri": "https://localhost:8080/"
        },
        "id": "AnebXvZ2HiRB",
        "outputId": "27bd858e-d4a8-4c76-f527-e592830830a6"
      },
      "outputs": [
        {
          "output_type": "stream",
          "name": "stdout",
          "text": [
            "Looking in indexes: https://pypi.org/simple, https://us-python.pkg.dev/colab-wheels/public/simple/\n",
            "Collecting stanza\n",
            "  Downloading stanza-1.4.0-py3-none-any.whl (574 kB)\n",
            "\u001b[K     |████████████████████████████████| 574 kB 5.0 MB/s \n",
            "\u001b[?25hRequirement already satisfied: tqdm in /usr/local/lib/python3.7/dist-packages (from stanza) (4.64.0)\n",
            "Collecting emoji\n",
            "  Downloading emoji-1.7.0.tar.gz (175 kB)\n",
            "\u001b[K     |████████████████████████████████| 175 kB 85.8 MB/s \n",
            "\u001b[?25hCollecting transformers\n",
            "  Downloading transformers-4.19.2-py3-none-any.whl (4.2 MB)\n",
            "\u001b[K     |████████████████████████████████| 4.2 MB 70.0 MB/s \n",
            "\u001b[?25hRequirement already satisfied: six in /usr/local/lib/python3.7/dist-packages (from stanza) (1.15.0)\n",
            "Requirement already satisfied: protobuf in /usr/local/lib/python3.7/dist-packages (from stanza) (3.17.3)\n",
            "Requirement already satisfied: numpy in /usr/local/lib/python3.7/dist-packages (from stanza) (1.21.6)\n",
            "Requirement already satisfied: requests in /usr/local/lib/python3.7/dist-packages (from stanza) (2.23.0)\n",
            "Requirement already satisfied: torch>=1.3.0 in /usr/local/lib/python3.7/dist-packages (from stanza) (1.11.0+cu113)\n",
            "Requirement already satisfied: typing-extensions in /usr/local/lib/python3.7/dist-packages (from torch>=1.3.0->stanza) (4.2.0)\n",
            "Requirement already satisfied: chardet<4,>=3.0.2 in /usr/local/lib/python3.7/dist-packages (from requests->stanza) (3.0.4)\n",
            "Requirement already satisfied: certifi>=2017.4.17 in /usr/local/lib/python3.7/dist-packages (from requests->stanza) (2022.5.18.1)\n",
            "Requirement already satisfied: idna<3,>=2.5 in /usr/local/lib/python3.7/dist-packages (from requests->stanza) (2.10)\n",
            "Requirement already satisfied: urllib3!=1.25.0,!=1.25.1,<1.26,>=1.21.1 in /usr/local/lib/python3.7/dist-packages (from requests->stanza) (1.24.3)\n",
            "Collecting tokenizers!=0.11.3,<0.13,>=0.11.1\n",
            "  Downloading tokenizers-0.12.1-cp37-cp37m-manylinux_2_12_x86_64.manylinux2010_x86_64.whl (6.6 MB)\n",
            "\u001b[K     |████████████████████████████████| 6.6 MB 63.7 MB/s \n",
            "\u001b[?25hCollecting huggingface-hub<1.0,>=0.1.0\n",
            "  Downloading huggingface_hub-0.7.0-py3-none-any.whl (86 kB)\n",
            "\u001b[K     |████████████████████████████████| 86 kB 7.3 MB/s \n",
            "\u001b[?25hCollecting pyyaml>=5.1\n",
            "  Downloading PyYAML-6.0-cp37-cp37m-manylinux_2_5_x86_64.manylinux1_x86_64.manylinux_2_12_x86_64.manylinux2010_x86_64.whl (596 kB)\n",
            "\u001b[K     |████████████████████████████████| 596 kB 73.4 MB/s \n",
            "\u001b[?25hRequirement already satisfied: regex!=2019.12.17 in /usr/local/lib/python3.7/dist-packages (from transformers->stanza) (2019.12.20)\n",
            "Requirement already satisfied: filelock in /usr/local/lib/python3.7/dist-packages (from transformers->stanza) (3.7.0)\n",
            "Requirement already satisfied: importlib-metadata in /usr/local/lib/python3.7/dist-packages (from transformers->stanza) (4.11.3)\n",
            "Requirement already satisfied: packaging>=20.0 in /usr/local/lib/python3.7/dist-packages (from transformers->stanza) (21.3)\n",
            "Requirement already satisfied: pyparsing!=3.0.5,>=2.0.2 in /usr/local/lib/python3.7/dist-packages (from packaging>=20.0->transformers->stanza) (3.0.9)\n",
            "Requirement already satisfied: zipp>=0.5 in /usr/local/lib/python3.7/dist-packages (from importlib-metadata->transformers->stanza) (3.8.0)\n",
            "Building wheels for collected packages: emoji\n",
            "  Building wheel for emoji (setup.py) ... \u001b[?25l\u001b[?25hdone\n",
            "  Created wheel for emoji: filename=emoji-1.7.0-py3-none-any.whl size=171046 sha256=e6b2944a76baf5e61f483ff36f04d81c611089130b0cc72fc861e17039b72fbb\n",
            "  Stored in directory: /root/.cache/pip/wheels/8a/4e/b6/57b01db010d17ef6ea9b40300af725ef3e210cb1acfb7ac8b6\n",
            "Successfully built emoji\n",
            "Installing collected packages: pyyaml, tokenizers, huggingface-hub, transformers, emoji, stanza\n",
            "  Attempting uninstall: pyyaml\n",
            "    Found existing installation: PyYAML 3.13\n",
            "    Uninstalling PyYAML-3.13:\n",
            "      Successfully uninstalled PyYAML-3.13\n",
            "Successfully installed emoji-1.7.0 huggingface-hub-0.7.0 pyyaml-6.0 stanza-1.4.0 tokenizers-0.12.1 transformers-4.19.2\n"
          ]
        }
      ],
      "source": [
        "!pip install stanza"
      ]
    },
    {
      "cell_type": "code",
      "execution_count": 4,
      "metadata": {
        "colab": {
          "base_uri": "https://localhost:8080/"
        },
        "id": "UBMREtQTk2LW",
        "outputId": "a76fd6be-601d-4d39-c787-282ce7ef1298"
      },
      "outputs": [
        {
          "output_type": "stream",
          "name": "stdout",
          "text": [
            "Looking in indexes: https://pypi.org/simple, https://us-python.pkg.dev/colab-wheels/public/simple/\n",
            "Collecting parsivar\n",
            "  Downloading parsivar-0.2.3.tar.gz (36.2 MB)\n",
            "\u001b[K     |████████████████████████████████| 36.2 MB 137 kB/s \n",
            "\u001b[?25hCollecting nltk==3.4.5\n",
            "  Downloading nltk-3.4.5.zip (1.5 MB)\n",
            "\u001b[K     |████████████████████████████████| 1.5 MB 42.5 MB/s \n",
            "\u001b[?25hRequirement already satisfied: six in /usr/local/lib/python3.7/dist-packages (from nltk==3.4.5->parsivar) (1.15.0)\n",
            "Building wheels for collected packages: parsivar, nltk\n",
            "  Building wheel for parsivar (setup.py) ... \u001b[?25l\u001b[?25hdone\n",
            "  Created wheel for parsivar: filename=parsivar-0.2.3-py3-none-any.whl size=36492972 sha256=3a5014eb188ef6690795e7df8a1486844688b36f752cb49e900fe89ca7dcb7d1\n",
            "  Stored in directory: /root/.cache/pip/wheels/ae/67/7a/49cbf08f64d3f76a26eceaf0e481a40e233f05d4356875cbed\n",
            "  Building wheel for nltk (setup.py) ... \u001b[?25l\u001b[?25hdone\n",
            "  Created wheel for nltk: filename=nltk-3.4.5-py3-none-any.whl size=1449923 sha256=0d2784b6579c44fc6f6bce037ad81c82ed2bff93755957a2f8c2d4590ec1a70a\n",
            "  Stored in directory: /root/.cache/pip/wheels/48/8b/7f/473521e0c731c6566d631b281f323842bbda9bd819eb9a3ead\n",
            "Successfully built parsivar nltk\n",
            "Installing collected packages: nltk, parsivar\n",
            "  Attempting uninstall: nltk\n",
            "    Found existing installation: nltk 3.2.5\n",
            "    Uninstalling nltk-3.2.5:\n",
            "      Successfully uninstalled nltk-3.2.5\n",
            "Successfully installed nltk-3.4.5 parsivar-0.2.3\n"
          ]
        }
      ],
      "source": [
        "!pip3 install parsivar"
      ]
    },
    {
      "cell_type": "code",
      "execution_count": 5,
      "metadata": {
        "colab": {
          "base_uri": "https://localhost:8080/",
          "height": 118,
          "referenced_widgets": [
            "427aa749016c45b882885769a552d67e",
            "e7b91b41fcc44ceca7959ef6af2f3444",
            "83a42186593d42578324ca402f9a7905",
            "66428ade348649d395006e50f02c135e",
            "d863173d00c0433ebae272b4dad99e02",
            "ed290568133f4e7aa0186b97495dfc36",
            "af2279ce17d04d3badf20eb9df9b5cac",
            "1d3817074af749d19a6b303fdeaf0a18",
            "fc619471a0a54d9dab2b0366287740b9",
            "0c7a24db29dc4019b2161a95eeb90713",
            "7363068dac9a4f018b2e0c6146f0d6ef",
            "d611951266f04fc281113f870d3cac96",
            "56e97f152b484d6e8bb657c8348c6089",
            "9efdf0cd680b4baea1f30c34a73b5d0b",
            "1095f98d0ad748a284e11dc7cb625fb9",
            "90372618d8f0425bb08807c8647f7c66",
            "5ad77ee0645847e594c499811854ced6",
            "cfe0777b9c7d4e4f89d1c4a4a0686386",
            "daa2010b1d594ff0b17c5a88a40c6703",
            "bcbea0bce08c43789829628da228d9c8",
            "7a4248b3958448ffa8bf044db9ee37fc",
            "cee15d201fc94a6da98b34ee04ad388b"
          ]
        },
        "id": "K67Qbr_4Hs3b",
        "outputId": "0e24449d-99c0-4ae2-e962-c54cd18479ed"
      },
      "outputs": [
        {
          "output_type": "display_data",
          "data": {
            "text/plain": [
              "Downloading https://raw.githubusercontent.com/stanfordnlp/stanza-resources/main/resources_1.4.0.json:   0%|   …"
            ],
            "application/vnd.jupyter.widget-view+json": {
              "version_major": 2,
              "version_minor": 0,
              "model_id": "427aa749016c45b882885769a552d67e"
            }
          },
          "metadata": {}
        },
        {
          "output_type": "stream",
          "name": "stderr",
          "text": [
            "2022-05-28 06:46:10 INFO: Downloading default packages for language: fa (Persian)...\n"
          ]
        },
        {
          "output_type": "display_data",
          "data": {
            "text/plain": [
              "Downloading https://huggingface.co/stanfordnlp/stanza-fa/resolve/v1.4.0/models/default.zip:   0%|          | 0…"
            ],
            "application/vnd.jupyter.widget-view+json": {
              "version_major": 2,
              "version_minor": 0,
              "model_id": "d611951266f04fc281113f870d3cac96"
            }
          },
          "metadata": {}
        },
        {
          "output_type": "stream",
          "name": "stderr",
          "text": [
            "2022-05-28 06:46:32 INFO: Finished downloading models and saved to /root/stanza_resources.\n"
          ]
        }
      ],
      "source": [
        "import stanza\n",
        "stanza.download('fa')"
      ]
    },
    {
      "cell_type": "code",
      "execution_count": 6,
      "metadata": {
        "colab": {
          "base_uri": "https://localhost:8080/",
          "height": 306,
          "referenced_widgets": [
            "6b478900e0174a7ca4fd1b47421c80a3",
            "9d4af82345d9440b90410ef9ec0e0f34",
            "d7f05a9c42ee49a099fd2d3f9aa081a4",
            "2ac31f37f2424b4fb5f38b62a8d88d56",
            "14c69295442b4f8296a26af795f53c69",
            "dcd4ed08c0ee46d1a97ee59da522364e",
            "9380ef7224584db5a30cb14479c86334",
            "ddf501ce93de40949477274864594079",
            "57896f66aa5144a9b063455e87629c95",
            "5d672bf2d4cd4c4598b5cd8fbe719432",
            "745b06897b9b4d948abab67c0e36ef6d"
          ]
        },
        "id": "vY9qy_5sIAw_",
        "outputId": "b66fe827-f4b4-4452-bbef-eda9a6a4200f"
      },
      "outputs": [
        {
          "output_type": "display_data",
          "data": {
            "text/plain": [
              "Downloading https://raw.githubusercontent.com/stanfordnlp/stanza-resources/main/resources_1.4.0.json:   0%|   …"
            ],
            "application/vnd.jupyter.widget-view+json": {
              "version_major": 2,
              "version_minor": 0,
              "model_id": "6b478900e0174a7ca4fd1b47421c80a3"
            }
          },
          "metadata": {}
        },
        {
          "output_type": "stream",
          "name": "stderr",
          "text": [
            "2022-05-28 06:46:32 INFO: Loading these models for language: fa (Persian):\n",
            "=======================\n",
            "| Processor | Package |\n",
            "-----------------------\n",
            "| tokenize  | perdt   |\n",
            "| mwt       | perdt   |\n",
            "| pos       | perdt   |\n",
            "=======================\n",
            "\n",
            "2022-05-28 06:46:32 INFO: Use device: gpu\n",
            "2022-05-28 06:46:32 INFO: Loading: tokenize\n",
            "2022-05-28 06:46:47 INFO: Loading: mwt\n",
            "2022-05-28 06:46:47 INFO: Loading: pos\n",
            "2022-05-28 06:46:47 INFO: Done loading processors!\n"
          ]
        }
      ],
      "source": [
        "nlp_pos = stanza.Pipeline(lang='fa', processors='tokenize,mwt,pos')"
      ]
    },
    {
      "cell_type": "code",
      "execution_count": null,
      "metadata": {
        "colab": {
          "base_uri": "https://localhost:8080/"
        },
        "id": "EloiwuwfIB7P",
        "outputId": "75ae2770-2361-40fc-d7c0-d6fd17359f38"
      },
      "outputs": [
        {
          "output_type": "stream",
          "name": "stdout",
          "text": [
            "Cloning into 'fastText'...\n",
            "remote: Enumerating objects: 3930, done.\u001b[K\n",
            "remote: Counting objects: 100% (76/76), done.\u001b[K\n",
            "remote: Compressing objects: 100% (47/47), done.\u001b[K\n",
            "remote: Total 3930 (delta 28), reused 42 (delta 11), pack-reused 3854\u001b[K\n",
            "Receiving objects: 100% (3930/3930), 8.33 MiB | 7.65 MiB/s, done.\n",
            "Resolving deltas: 100% (2445/2445), done.\n",
            "/content/fastText\n",
            "Processing /content/fastText\n",
            "\u001b[33m  DEPRECATION: A future pip version will change local packages to be built in-place without first copying to a temporary directory. We recommend you use --use-feature=in-tree-build to test your packages with this new behavior before it becomes the default.\n",
            "   pip 21.3 will remove support for this functionality. You can find discussion regarding this at https://github.com/pypa/pip/issues/7555.\u001b[0m\n",
            "Collecting pybind11>=2.2\n",
            "  Using cached pybind11-2.9.2-py2.py3-none-any.whl (213 kB)\n",
            "Requirement already satisfied: setuptools>=0.7.0 in /usr/local/lib/python3.7/dist-packages (from fasttext==0.9.2) (57.4.0)\n",
            "Requirement already satisfied: numpy in /usr/local/lib/python3.7/dist-packages (from fasttext==0.9.2) (1.21.6)\n",
            "Building wheels for collected packages: fasttext\n",
            "  Building wheel for fasttext (setup.py) ... \u001b[?25l\u001b[?25hdone\n",
            "  Created wheel for fasttext: filename=fasttext-0.9.2-cp37-cp37m-linux_x86_64.whl size=3136664 sha256=769a8b0366eec88f949df53e2f52dfafd8b85504af13b03e31c3bdc40382dfc6\n",
            "  Stored in directory: /tmp/pip-ephem-wheel-cache-cz7uu3w5/wheels/22/04/6e/b3aba25c1a5845898b5871a0df37c2126cb0cc9326ad0c08e7\n",
            "Successfully built fasttext\n",
            "Installing collected packages: pybind11, fasttext\n",
            "Successfully installed fasttext-0.9.2 pybind11-2.9.2\n",
            "/content\n"
          ]
        }
      ],
      "source": [
        "!git clone https://github.com/facebookresearch/fastText.git\n",
        "% cd fastText\n",
        "!  pip install .\n",
        "%cd .."
      ]
    },
    {
      "cell_type": "code",
      "execution_count": null,
      "metadata": {
        "colab": {
          "base_uri": "https://localhost:8080/"
        },
        "id": "7Fw2SkiaID03",
        "outputId": "b4594911-2f4a-4264-f3eb-2cd9a947a8f4"
      },
      "outputs": [
        {
          "output_type": "stream",
          "name": "stdout",
          "text": [
            "/content/fastText\n",
            "Downloading https://dl.fbaipublicfiles.com/fasttext/vectors-crawl/cc.fa.300.bin.gz\n",
            " (100.00%) [==================================================>]\n",
            "/content\n"
          ]
        }
      ],
      "source": [
        "% cd fastText\n",
        "!./download_model.py fa\n",
        "% cd .."
      ]
    },
    {
      "cell_type": "code",
      "execution_count": null,
      "metadata": {
        "colab": {
          "base_uri": "https://localhost:8080/"
        },
        "id": "Y-tdUjcKgz0x",
        "outputId": "d0a04ad8-6ba2-4b52-83df-38df60bd5981"
      },
      "outputs": [
        {
          "output_type": "stream",
          "name": "stdout",
          "text": [
            "/content/fastText\n",
            "Loading model\n",
            "tcmalloc: large alloc 4800004096 bytes == 0x55a7b9a54000 @  0x7fec837b0887 0x7fec816aeab3 0x7fec816a6a0f 0x7fec816a7021 0x7fec81656412 0x7fec8167e6bd 0x55a7a5ab7d48 0x55a7a5b2b522 0x55a7a5b25a2e 0x55a7a5ab913c 0x55a7a5afa239 0x55a7a5af7184 0x55a7a5ab79f9 0x55a7a5b2b937 0x55a7a5ab87aa 0x55a7a5b2ad30 0x55a7a5b25a2e 0x55a7a5ab888a 0x55a7a5b27719 0x55a7a5ab87aa 0x55a7a5b268f6 0x55a7a5b25a2e 0x55a7a5b25723 0x55a7a5bef812 0x55a7a5befb8d 0x55a7a5befa36 0x55a7a5bc7183 0x55a7a5bc6e2c 0x7fec82598c87 0x55a7a5bc6d0a\n",
            "tcmalloc: large alloc 2400002048 bytes == 0x55a8d7bf8000 @  0x7fec837b0887 0x7fec816aeab3 0x7fec816a6a5e 0x7fec816a7021 0x7fec81656412 0x7fec8167e6bd 0x55a7a5ab7d48 0x55a7a5b2b522 0x55a7a5b25a2e 0x55a7a5ab913c 0x55a7a5afa239 0x55a7a5af7184 0x55a7a5ab79f9 0x55a7a5b2b937 0x55a7a5ab87aa 0x55a7a5b2ad30 0x55a7a5b25a2e 0x55a7a5ab888a 0x55a7a5b27719 0x55a7a5ab87aa 0x55a7a5b268f6 0x55a7a5b25a2e 0x55a7a5b25723 0x55a7a5bef812 0x55a7a5befb8d 0x55a7a5befa36 0x55a7a5bc7183 0x55a7a5bc6e2c 0x7fec82598c87 0x55a7a5bc6d0a\n",
            "Reducing matrix dimensions\n",
            "tcmalloc: large alloc 4800004096 bytes == 0x55a96e4ca000 @  0x7fec837ae1e7 0x7fec80e2e0ce 0x7fec80e88726 0x7fec80e88b09 0x7fec80e8a620 0x7fec80e8ad1b 0x7fec80f2b333 0x55a7a5ab711c 0x55a7a5ab6ef0 0x55a7a5b2b123 0x55a7a5ab87aa 0x55a7a5b26b4f 0x55a7a5ab87aa 0x55a7a5b2ad30 0x55a7a5b25a2e 0x55a7a5ab888a 0x55a7a5b27719 0x55a7a5ab87aa 0x55a7a5b268f6 0x55a7a5b25a2e 0x55a7a5b25723 0x55a7a5bef812 0x55a7a5befb8d 0x55a7a5befa36 0x55a7a5bc7183 0x55a7a5bc6e2c 0x7fec82598c87 0x55a7a5bc6d0a\n",
            "tcmalloc: large alloc 1600004096 bytes == 0x55aa938e0000 @  0x7fec837ae1e7 0x7fec80e2e0ce 0x7fec80e84cf5 0x7fec80e84e08 0x7fec80f440f4 0x7fec80f46f6d 0x7fec810cb49b 0x7fec810cd3a3 0x7fec810cee10 0x55a7a5ab7902 0x55a7a5b2b522 0x55a7a5ab87aa 0x55a7a5b268f6 0x55a7a5ab87aa 0x55a7a5b2ad30 0x55a7a5b25a2e 0x55a7a5ab888a 0x55a7a5b27719 0x55a7a5ab87aa 0x55a7a5b268f6 0x55a7a5b25a2e 0x55a7a5b25723 0x55a7a5bef812 0x55a7a5befb8d 0x55a7a5befa36 0x55a7a5bc7183 0x55a7a5bc6e2c 0x7fec82598c87 0x55a7a5bc6d0a\n",
            "tcmalloc: large alloc 2400002048 bytes == 0x55a96e4ca000 @  0x7fec837ae1e7 0x7fec80e2e0ce 0x7fec80e88726 0x7fec80e88b09 0x7fec80e8a620 0x7fec80e8ad1b 0x7fec80f2b333 0x55a7a5ab711c 0x55a7a5ab6ef0 0x55a7a5b2b123 0x55a7a5ab87aa 0x55a7a5b26b4f 0x55a7a5ab87aa 0x55a7a5b2ad30 0x55a7a5b25a2e 0x55a7a5ab888a 0x55a7a5b27719 0x55a7a5ab87aa 0x55a7a5b268f6 0x55a7a5b25a2e 0x55a7a5b25723 0x55a7a5bef812 0x55a7a5befb8d 0x55a7a5befa36 0x55a7a5bc7183 0x55a7a5bc6e2c 0x7fec82598c87 0x55a7a5bc6d0a\n",
            "Saving model\n",
            "cc.fa.100.bin saved\n",
            "/content\n"
          ]
        }
      ],
      "source": [
        "% cd fastText\n",
        "!./reduce_model.py cc.fa.300.bin 100\n",
        "% cd .."
      ]
    },
    {
      "cell_type": "code",
      "execution_count": 7,
      "metadata": {
        "id": "1GvRlOd7IFwn"
      },
      "outputs": [],
      "source": [
        "!mkdir data"
      ]
    },
    {
      "cell_type": "code",
      "execution_count": 8,
      "metadata": {
        "id": "rtOY4RPkOrtr"
      },
      "outputs": [],
      "source": [
        "# run this or below cell\n",
        "!cp drive/MyDrive/دیتاست\\ بیجن\\ خان/test_clean.tsv data/test_clean.tsv\n",
        "!cp drive/MyDrive/دیتاست\\ بیجن\\ خان/train_clean.tsv data/train_clean.tsv"
      ]
    },
    {
      "cell_type": "code",
      "execution_count": null,
      "metadata": {
        "colab": {
          "base_uri": "https://localhost:8080/"
        },
        "id": "NL27nT6e079M",
        "outputId": "78d7f977-239d-40b6-c7e6-7088c8167b19"
      },
      "outputs": [
        {
          "output_type": "stream",
          "name": "stdout",
          "text": [
            "9049352 data/train_clean.tsv\n"
          ]
        }
      ],
      "source": [
        "!wc -l data/train_clean.tsv"
      ]
    },
    {
      "cell_type": "code",
      "execution_count": null,
      "metadata": {
        "colab": {
          "base_uri": "https://localhost:8080/"
        },
        "id": "U-Tk7enI1HvL",
        "outputId": "750ad0b1-895c-4323-e653-94a88cf5a870"
      },
      "outputs": [
        {
          "name": "stdout",
          "output_type": "stream",
          "text": [
            "1601230 data/test_clean.tsv\n"
          ]
        }
      ],
      "source": [
        "!wc -l data/test_clean.tsv"
      ]
    },
    {
      "cell_type": "code",
      "execution_count": null,
      "metadata": {
        "id": "2vMw5h2D0FZu"
      },
      "outputs": [],
      "source": [
        "!head -n4000000 data/train_clean.tsv > data/train_clean_p1.tsv"
      ]
    },
    {
      "cell_type": "code",
      "execution_count": null,
      "metadata": {
        "colab": {
          "base_uri": "https://localhost:8080/"
        },
        "id": "R6oZsQ2y1Moj",
        "outputId": "109d7547-4bf1-4b45-90a4-171d36f0eb22"
      },
      "outputs": [
        {
          "name": "stdout",
          "output_type": "stream",
          "text": [
            "4000000 data/train_clean_p1.tsv\n"
          ]
        }
      ],
      "source": [
        "!wc -l data/train_clean_p1.tsv"
      ]
    },
    {
      "cell_type": "code",
      "execution_count": null,
      "metadata": {
        "colab": {
          "base_uri": "https://localhost:8080/"
        },
        "id": "MPeQzq74III-",
        "outputId": "09315c2e-3643-414d-d395-afc21add915b"
      },
      "outputs": [
        {
          "name": "stdout",
          "output_type": "stream",
          "text": [
            "Archive:  drive/MyDrive/دیتاست بیجن خان/test_data.zip\n",
            "  inflating: data/test_data.txt      \n",
            "Archive:  drive/MyDrive/دیتاست بیجن خان/train_data.zip\n",
            "  inflating: data/train_data.txt     \n"
          ]
        }
      ],
      "source": [
        "!unzip drive/MyDrive/دیتاست\\ بیجن\\ خان/test_data.zip -d data\n",
        "!unzip drive/MyDrive/دیتاست\\ بیجن\\ خان/train_data.zip -d data"
      ]
    },
    {
      "cell_type": "code",
      "execution_count": null,
      "metadata": {
        "colab": {
          "base_uri": "https://localhost:8080/",
          "height": 334,
          "referenced_widgets": [
            "dbe35029b8b548d3b6be39f6df1a101d",
            "134d6e02bb774d4ca43bedb2aac47de3",
            "fd9ca95cad574587948880f029ca548b",
            "1964e22bb1b1414085211def637b63c6",
            "8e70ac53b8be4bef93cdacc327bfbf28",
            "6e52cc6ab8eb4a1d977394875d1ef25e",
            "99921afd79c24ca8aea372f01e3134e0",
            "2eb742feb71e49b6b9b7db5ff183b55f",
            "ba1b457323c7449a966759c368e8b5b8",
            "baa3cc94770f43e088fe2fbfcf1e4d90",
            "bf3a12fe262c41b8b500b7608a5218b5"
          ]
        },
        "id": "IByGIyi0IMLm",
        "outputId": "e4705901-0d16-474f-af49-bd0e6d315228"
      },
      "outputs": [
        {
          "output_type": "display_data",
          "data": {
            "text/plain": [
              "Downloading https://raw.githubusercontent.com/stanfordnlp/stanza-resources/main/resources_1.4.0.json:   0%|   …"
            ],
            "application/vnd.jupyter.widget-view+json": {
              "version_major": 2,
              "version_minor": 0,
              "model_id": "dbe35029b8b548d3b6be39f6df1a101d"
            }
          },
          "metadata": {}
        },
        {
          "output_type": "stream",
          "name": "stderr",
          "text": [
            "2022-05-24 09:34:58 INFO: Loading these models for language: fa (Persian):\n",
            "=======================\n",
            "| Processor | Package |\n",
            "-----------------------\n",
            "| tokenize  | perdt   |\n",
            "| mwt       | perdt   |\n",
            "| pos       | perdt   |\n",
            "=======================\n",
            "\n",
            "2022-05-24 09:34:58 INFO: Use device: gpu\n",
            "2022-05-24 09:34:58 INFO: Loading: tokenize\n",
            "2022-05-24 09:34:58 INFO: Loading: mwt\n",
            "2022-05-24 09:34:58 INFO: Loading: pos\n",
            "2022-05-24 09:34:58 INFO: Done loading processors!\n"
          ]
        }
      ],
      "source": [
        "nlp_pos = stanza.Pipeline(lang='fa', processors='tokenize,mwt,pos')"
      ]
    },
    {
      "cell_type": "code",
      "execution_count": 9,
      "metadata": {
        "id": "TGxCnhOfIO4W",
        "colab": {
          "base_uri": "https://localhost:8080/",
          "height": 306,
          "referenced_widgets": [
            "b176d07889fd4d7c962ecab4cd18ef4d",
            "c3783ace9034458391cef5811f5faf09",
            "9d9d551b2a7b4a82b4a063f09f79752e",
            "88d1197559d1420db06e6a87fe6fef77",
            "8815e4ef49014127971a0036d013142f",
            "4aa8b94a89cc429386a631a376b42ce8",
            "2bc53226e3154fa184fa45ed2205b4aa",
            "835c18f791304f549aff72efbe7f589e",
            "d54faa8365ed42b887f87eb3fef5c910",
            "acc182c08ce74734bdc21bc688cf1972",
            "98fe1970d77d42f79fcf0d01f2ccf426"
          ]
        },
        "outputId": "0f0b074b-fcae-4347-8f4f-12fcd8f4baea"
      },
      "outputs": [
        {
          "output_type": "display_data",
          "data": {
            "text/plain": [
              "Downloading https://raw.githubusercontent.com/stanfordnlp/stanza-resources/main/resources_1.4.0.json:   0%|   …"
            ],
            "application/vnd.jupyter.widget-view+json": {
              "version_major": 2,
              "version_minor": 0,
              "model_id": "b176d07889fd4d7c962ecab4cd18ef4d"
            }
          },
          "metadata": {}
        },
        {
          "output_type": "stream",
          "name": "stderr",
          "text": [
            "2022-05-28 06:46:50 INFO: Loading these models for language: fa (Persian):\n",
            "=======================\n",
            "| Processor | Package |\n",
            "-----------------------\n",
            "| tokenize  | perdt   |\n",
            "| mwt       | perdt   |\n",
            "| pos       | perdt   |\n",
            "=======================\n",
            "\n",
            "2022-05-28 06:46:50 INFO: Use device: gpu\n",
            "2022-05-28 06:46:50 INFO: Loading: tokenize\n",
            "2022-05-28 06:46:50 INFO: Loading: mwt\n",
            "2022-05-28 06:46:50 INFO: Loading: pos\n",
            "2022-05-28 06:46:50 INFO: Done loading processors!\n"
          ]
        }
      ],
      "source": [
        "nlp_pos = stanza.Pipeline(lang='fa', processors='tokenize,mwt,pos')\n",
        "def pos_tager(text):\n",
        "  doc = nlp_pos(text)\n",
        "  pos = [word.xpos for sent in doc.sentences for word in sent.words if word.text not in ['ش','شان','م', 'مان', 'ند','ست','یت', 'تان', 'ت','اش']]\n",
        "  # pos_ = [(word.text , word.upos, word.xpos) for sent in doc.sentences for word in sent.words ]\n",
        "  # print(pos_)\n",
        "  return pos"
      ]
    },
    {
      "cell_type": "code",
      "execution_count": 10,
      "metadata": {
        "id": "r8ZQFOE_IP13"
      },
      "outputs": [],
      "source": [
        "from tqdm import tqdm"
      ]
    },
    {
      "cell_type": "code",
      "execution_count": null,
      "metadata": {
        "id": "I70JzE8PIUg5"
      },
      "outputs": [],
      "source": [
        "def check_consist(pos_tag, kasre_tag, sent):\n",
        "  l1 = len(pos_tag)\n",
        "  l2 = len(kasre_tag)\n",
        "  l3 = len(sent.split())\n",
        "  if l1!=l2:\n",
        "    return False\n",
        "  if l1!=l3:\n",
        "    return False\n",
        "  if l3!=l2:\n",
        "    return False\n",
        "  return True"
      ]
    },
    {
      "cell_type": "code",
      "execution_count": null,
      "metadata": {
        "colab": {
          "base_uri": "https://localhost:8080/"
        },
        "id": "UrWMK6ZPIVaF",
        "outputId": "374e7f34-a84d-45eb-8abd-37c67ba35b04"
      },
      "outputs": [
        {
          "name": "stderr",
          "output_type": "stream",
          "text": [
            "130it [00:00, 517.04it/s]/usr/local/lib/python3.7/dist-packages/stanza/models/common/beam.py:86: UserWarning: __floordiv__ is deprecated, and its behavior will change in a future version of pytorch. It currently rounds toward 0 (like the 'trunc' function NOT 'floor'). This results in incorrect rounding for negative values. To keep the current behavior, use torch.div(a, b, rounding_mode='trunc'), or for actual floor division, use torch.div(a, b, rounding_mode='floor').\n",
            "  prevK = bestScoresId // numWords\n",
            "8612838it [1:46:31, 1347.55it/s]\n"
          ]
        }
      ],
      "source": [
        "with open('data/train_data.txt', encoding='utf-8') as f:\n",
        "    data = f.readlines()\n",
        "sents = list()\n",
        "kasre_tags = list()\n",
        "temp_sent = ''\n",
        "temp_tags = list()\n",
        "pos_tags = list()\n",
        "for i, line in tqdm(enumerate(data)):\n",
        "    # if i>10000: break\n",
        "    try:\n",
        "        word, ez = line.split()\n",
        "        word += ' '\n",
        "        temp_sent += word\n",
        "        temp_tags.append(ez)\n",
        "        if word in ['. ', '# ']:\n",
        "            pos_tag = pos_tager(temp_sent)\n",
        "            ok = check_consist(pos_tag, temp_tags, temp_sent)\n",
        "            if ok:\n",
        "              sents.append(temp_sent) \n",
        "              kasre_tags.append(temp_tags)\n",
        "              pos_tags.append(pos_tag)\n",
        "            temp_sent = ''\n",
        "            temp_tags = list()\n",
        "    except:\n",
        "        pos_tag = pos_tager(temp_sent)\n",
        "        ok = check_consist(pos_tag, temp_tags, temp_sent)\n",
        "        if ok:\n",
        "          sents.append(temp_sent) \n",
        "          kasre_tags.append(temp_tags)\n",
        "          pos_tags.append(pos_tag)\n",
        "        temp_sent = ''\n",
        "        temp_tags = list()   "
      ]
    },
    {
      "cell_type": "code",
      "execution_count": null,
      "metadata": {
        "colab": {
          "base_uri": "https://localhost:8080/"
        },
        "id": "oWuilPW2IYWW",
        "outputId": "3e989c40-07c8-404c-d2a6-aa8cda7fda71"
      },
      "outputs": [
        {
          "data": {
            "text/plain": [
              "(295721, 295721, 295721)"
            ]
          },
          "execution_count": 102,
          "metadata": {},
          "output_type": "execute_result"
        }
      ],
      "source": [
        "len(sents), len(kasre_tags), len(pos_tags)"
      ]
    },
    {
      "cell_type": "code",
      "execution_count": null,
      "metadata": {
        "id": "IyetfYuTIdCu"
      },
      "outputs": [],
      "source": [
        "raws = list()\n",
        "\n",
        "for i in range(len(pos_tags)):\n",
        "  for j in range(len(pos_tags[i])):\n",
        "    raw = f'{sents[i].split()[j]}\\t{pos_tags[i][j]}\\t{kasre_tags[i][j]}'\n",
        "    raws.append(raw)\n",
        "  raws.append('\\n')"
      ]
    },
    {
      "cell_type": "code",
      "execution_count": null,
      "metadata": {
        "id": "Bw0bUhwYIeTW"
      },
      "outputs": [],
      "source": [
        "raws_text = '\\n'.join(raws)\n",
        "with open('data/train_clean.tsv', 'w') as f:\n",
        "  f.write(raws_text)"
      ]
    },
    {
      "cell_type": "code",
      "execution_count": null,
      "metadata": {
        "id": "6uJsLaiROct1"
      },
      "outputs": [],
      "source": [
        "!cp data/train_clean.tsv drive/MyDrive/دیتاست\\ بیجن\\ خان/"
      ]
    },
    {
      "cell_type": "code",
      "execution_count": 11,
      "metadata": {
        "id": "q-mzML_PRHLU"
      },
      "outputs": [],
      "source": [
        "# run this or bellow cell\n",
        "!mkdir fastText\n",
        "!cp drive/MyDrive/fastText/cc.fa.100.vec fastText/"
      ]
    },
    {
      "cell_type": "code",
      "execution_count": null,
      "metadata": {
        "colab": {
          "base_uri": "https://localhost:8080/"
        },
        "id": "VuY_O26bbHzf",
        "outputId": "a21decb9-d90a-43d0-e2e6-01ef8dfcd398"
      },
      "outputs": [
        {
          "output_type": "stream",
          "name": "stdout",
          "text": [
            "2.4G fastText/cc.fa.100.vec\n"
          ]
        }
      ],
      "source": [
        "!ls -sh fastText/cc.fa.100.vec"
      ]
    },
    {
      "cell_type": "code",
      "execution_count": null,
      "metadata": {
        "id": "RqAd6MmUIgoG"
      },
      "outputs": [],
      "source": [
        "from fasttext import load_model\n",
        "\n",
        "# original BIN model loading\n",
        "f = load_model('fastText/cc.fa.100.bin')\n",
        "lines=[]\n",
        "\n",
        "# get all words from model\n",
        "words = f.get_words()\n",
        "\n",
        "with open('fastText/cc.fa.100.vec','w') as file_out:\n",
        "    \n",
        "    # the first line must contain number of total words and vector dimension\n",
        "    file_out.write(str(len(words)) + \" \" + str(f.get_dimension()) + \"\\n\")\n",
        "\n",
        "    # line by line, you append vectors to VEC file\n",
        "    for w in words:\n",
        "        v = f.get_word_vector(w)\n",
        "        vstr = \"\"\n",
        "        for vi in v:\n",
        "            vstr += \" \" + str(vi)\n",
        "        try:\n",
        "            file_out.write(w + vstr+'\\n')\n",
        "        except:\n",
        "            pass"
      ]
    },
    {
      "cell_type": "code",
      "execution_count": null,
      "metadata": {
        "colab": {
          "base_uri": "https://localhost:8080/"
        },
        "id": "uw4QcEhuoR5L",
        "outputId": "8f12f6a2-2fe4-43d5-e753-30b03952cb3e"
      },
      "outputs": [
        {
          "output_type": "stream",
          "name": "stdout",
          "text": [
            "2.4G fastText/cc.fa.100.vec\n"
          ]
        }
      ],
      "source": [
        "!ls -sh fastText/cc.fa.100.vec"
      ]
    },
    {
      "cell_type": "code",
      "execution_count": null,
      "metadata": {
        "id": "yx-MVhUoQ8dO"
      },
      "outputs": [],
      "source": [
        "# !mkdir drive/MyDrive/fastText\n",
        "!cp fastText/cc.fa.100.vec drive/MyDrive/fastText/"
      ]
    },
    {
      "cell_type": "code",
      "execution_count": 12,
      "metadata": {
        "id": "s8AtfVYDtgrw"
      },
      "outputs": [],
      "source": [
        "!mkdir checkpoints"
      ]
    },
    {
      "cell_type": "code",
      "execution_count": 13,
      "metadata": {
        "id": "Yi3Sdd_lsvMy"
      },
      "outputs": [],
      "source": [
        "RUN = 0"
      ]
    },
    {
      "cell_type": "code",
      "source": [
        "import re\n",
        "o = open('data/train_clean_v2.tsv', 'w')\n",
        "with open('data/train_clean.tsv', 'r') as f:\n",
        "  data = f.readlines()\n",
        "break_points = ['،', ':', '؛']\n",
        "for line in data:\n",
        "  if '\\t' in line:\n",
        "    w, _, _ = line.split('\\t')\n",
        "    if any(b in w for b in break_points):\n",
        "      line = line + '\\n\\n'\n",
        "  o.write(line)\n",
        "o.close()"
      ],
      "metadata": {
        "id": "PvvBa1QDa8QX"
      },
      "execution_count": 14,
      "outputs": []
    },
    {
      "cell_type": "code",
      "source": [
        "import re\n",
        "o = open('data/test_clean_v2.tsv', 'w')\n",
        "with open('data/test_clean.tsv', 'r') as f:\n",
        "  data = f.readlines()\n",
        "break_points = ['،', ':', '؛']\n",
        "for line in data:\n",
        "  if '\\t' in line:\n",
        "    w, _, _ = line.split('\\t')\n",
        "    if any(b in w for b in break_points):\n",
        "      line = line + '\\n\\n'\n",
        "  o.write(line)\n",
        "o.close()"
      ],
      "metadata": {
        "id": "KHEFYOh8c9D1"
      },
      "execution_count": 15,
      "outputs": []
    },
    {
      "cell_type": "code",
      "source": [
        "!ls  -sh data"
      ],
      "metadata": {
        "colab": {
          "base_uri": "https://localhost:8080/"
        },
        "id": "2nCpqk9kc39m",
        "outputId": "b232237a-d44c-4709-d90f-c04bca4ab413"
      },
      "execution_count": 16,
      "outputs": [
        {
          "output_type": "stream",
          "name": "stdout",
          "text": [
            "total 330M\n",
            " 25M test_clean.tsv\t140M train_clean.tsv\n",
            " 25M test_clean_v2.tsv\t141M train_clean_v2.tsv\n"
          ]
        }
      ]
    },
    {
      "cell_type": "code",
      "execution_count": 17,
      "metadata": {
        "id": "J3PlM7ZmJq1N"
      },
      "outputs": [],
      "source": [
        "class Config:\n",
        "    def __init__(self):\n",
        "        # directories\n",
        "        self.train_data_dir = 'data/train_clean_v2.tsv'\n",
        "        self.model_dir = 'models'\n",
        "        self.we_model_dir = 'fastText/cc.fa.100.vec'\n",
        "        self.we_pickled_model_dir = 'fastText/cc.fa.100.pickle'\n",
        "\n",
        "        # general\n",
        "        self.data_split = .1\n",
        "        self.num_epochs = 25\n",
        "        self.batch_size = 16\n",
        "        self.shuffle_buffer = 320000\n",
        "        self.num_tags = 6\n",
        "        self.num_pos_tags = 33\n",
        "        self.word_max_len = 30\n",
        "        self.learning_rate = 1e-3\n",
        "        self.max_len = 100\n",
        "\n",
        "        # embeddings\n",
        "        self.num_words = 100000\n",
        "        self.word_embed_dim = 100\n",
        "        self.num_chars = 256  # number of most frequent characters to be kept\n",
        "        self.char_embed_dim = 32\n",
        "        self.pos_embed_dim = 16\n",
        "\n",
        "        # lstm variables\n",
        "        self.lstm_units = 256  # number of hidden units in the RNN\n",
        "        self.dropout = .5  # keeping probability"
      ]
    },
    {
      "cell_type": "code",
      "execution_count": 18,
      "metadata": {
        "id": "WcnAZYHytnKr"
      },
      "outputs": [],
      "source": [
        "from tqdm import tqdm"
      ]
    },
    {
      "cell_type": "code",
      "execution_count": 19,
      "metadata": {
        "id": "INvwEX06KaqU"
      },
      "outputs": [],
      "source": [
        "!cp drive/MyDrive/indices.pickle ./"
      ]
    },
    {
      "cell_type": "code",
      "execution_count": 20,
      "metadata": {
        "id": "uEQCFIPnvrQG"
      },
      "outputs": [],
      "source": [
        "import re\n",
        "import random\n",
        "import pickle\n",
        "from collections import Counter\n",
        "import sys\n",
        "\n",
        "import numpy as np\n",
        "from gensim.models import KeyedVectors\n",
        "from torch.utils.data import DataLoader, Dataset\n",
        "import os\n",
        "from torch.nn.functional import one_hot\n",
        "import torch\n",
        "import torch.nn as nn\n",
        "import string\n",
        "cfg = Config()\n"
      ]
    },
    {
      "cell_type": "code",
      "execution_count": 21,
      "metadata": {
        "id": "5C3SVZoupGKd"
      },
      "outputs": [],
      "source": [
        "\n",
        "class KasreDS(Dataset):\n",
        "    def __init__(self, cfg):\n",
        "        # loading word embedding model\n",
        "        try:\n",
        "            handle = open(cfg.we_pickled_model_dir, 'rb') \n",
        "            self.word_embedding_model = pickle.load(handle)\n",
        "        except FileNotFoundError:\n",
        "            self.word_embedding_model = KeyedVectors.load_word2vec_format(cfg.we_model_dir, binary=False)\n",
        "            with open(cfg.we_pickled_model_dir, 'wb') as handle:\n",
        "                pickle.dump(self.word_embedding_model, handle, protocol=pickle.HIGHEST_PROTOCOL)\n",
        "\n",
        "        sents, all_pos_tags, all_ezafe_tags = self._data_reader(cfg.train_data_dir)\n",
        "        print(len(sents))\n",
        "        sents_shuf = []\n",
        "        all_pos_tags_shuf = []\n",
        "        all_ezafe_tags_shuf = []\n",
        "        index_shuf = list(range(len(sents)))\n",
        "\n",
        "        for i in index_shuf:\n",
        "            sents_shuf.append(sents[i])\n",
        "            all_pos_tags_shuf.append(all_pos_tags[i])\n",
        "            all_ezafe_tags_shuf.append(all_ezafe_tags[i])\n",
        "\n",
        "        random.seed(17)\n",
        "        random.shuffle(index_shuf)\n",
        "        \n",
        "        self.sents_shuf = sents_shuf\n",
        "        print('data:', len(self.sents_shuf[0]))\n",
        "        self.data = sents_shuf\n",
        "        sents, all_pos_tags, all_ezafe_tags = self._data_reader(cfg.train_data_dir)\n",
        "        self.sents = sents\n",
        "        self.all_pos_tags = all_pos_tags\n",
        "        self.all_ezafe_tags = all_ezafe_tags\n",
        "\n",
        "        \n",
        "        try:\n",
        "              with open('indices.pickle', 'rb')  as handle:\n",
        "                self.char_to_index, self.word_to_index, self.pos_tag_to_index, self.ezafe_tag_to_index = pickle.load(handle)\n",
        "                \n",
        "                print(self.pos_tag_to_index)\n",
        "\n",
        "                self.index_to_word = {i: key for key, i in self.word_to_index.items()}\n",
        "                self.index_to_ezafe_tag = {i: key for key, i in self.ezafe_tag_to_index.items()}\n",
        "          \n",
        "              \n",
        "\n",
        "        except FileNotFoundError:\n",
        "            print('Building vocabulary...')\n",
        "\n",
        "            vocab_list = []\n",
        "            char_list = []\n",
        "            for sent in self.data:\n",
        "                for word in sent:\n",
        "                    vocab_list.append(word)\n",
        "                    for char in word:\n",
        "                        char_list.append(char)\n",
        "            \n",
        "            most_common_words = Counter(vocab_list).most_common(cfg.num_words)\n",
        "            most_common_chars = Counter(char_list).most_common(cfg.num_chars)\n",
        "            \n",
        "            self.word_to_index = {}\n",
        "            for i, pair in enumerate([('<PAD>', 0)] + most_common_words):\n",
        "                self.word_to_index[pair[0]] = i + 1\n",
        "\n",
        "            self.char_to_index = {}\n",
        "            for i, pair in enumerate([('<PAD>', 0), ('<UNK>', 1)] + most_common_chars):\n",
        "                self.char_to_index[pair[0]] = i + 1\n",
        "            \n",
        "            self.pos_tag_to_index = {}\n",
        "            for i, tag in enumerate(set(x for y in self.all_pos_tags for x in y)):\n",
        "                self.pos_tag_to_index[tag] = i + 1\n",
        "\n",
        "            self.ezafe_tag_to_index = {'O': 0, 'e': 1,'ye': 2, 've':3, 'y':4, '@e':5}\n",
        "\n",
        "            self.index_to_word = {i: key for key, i in self.word_to_index.items()}\n",
        "            self.index_to_ezafe_tag = {i: key for key, i in self.ezafe_tag_to_index.items()}\n",
        "\n",
        "            # saving the tokenizers\n",
        "            with open('indices.pickle', 'wb') as handle:\n",
        "                indices = self.char_to_index, self.word_to_index, self.pos_tag_to_index, self.ezafe_tag_to_index\n",
        "                pickle.dump(indices, handle, protocol=pickle.HIGHEST_PROTOCOL)\n",
        "\n",
        "\n",
        "    def _data_reader(self, directory):\n",
        "        sents, sent = [], []\n",
        "        all_ezafe_tags, ezafe_tags = [], []\n",
        "        all_pos_tags, pos_tags = [], []\n",
        "        with open(directory) as bijankhan_corpus:\n",
        "            for line in bijankhan_corpus:\n",
        "                if line != '\\n':\n",
        "                    word, pos_tag, ezafe_tag = line.strip().split('\\t')\n",
        "                    sent.append(word.replace('ي', 'ی').replace('ك', 'ک').replace('ة', 'ه'))\n",
        "                    pos_tags.append(pos_tag)\n",
        "                    ezafe_tags.append(ezafe_tag)\n",
        "                else:\n",
        "                    if len(sent)>1 :\n",
        "                      sents.append(sent)\n",
        "                      all_pos_tags.append(pos_tags)\n",
        "                      all_ezafe_tags.append(ezafe_tags)\n",
        "                     \n",
        "                    sent = []\n",
        "                    pos_tags = []\n",
        "                    ezafe_tags = []\n",
        "\n",
        "        return sents, all_pos_tags, all_ezafe_tags\n",
        "\t\n",
        "\n",
        "    def _pad(self, word):\n",
        "        for _ in range(cfg.word_max_len - len(word)):\n",
        "            word.append(0)\n",
        "        return word\n",
        "    \n",
        "\n",
        "    def _sent_to_index(self, sentence, mode='word'):\n",
        "        if mode is 'word':\n",
        "            return [self.word_to_index.get(word, 1) for word in sentence]\n",
        "        elif mode is 'char':\n",
        "            indexed_sentence = []\n",
        "            for word in sentence:\n",
        "                indexed_word = []\n",
        "                for char in word:\n",
        "                    indexed_word.append(self.char_to_index.get(word, 1))\n",
        "                indexed_sentence.append(self._pad(indexed_word))\n",
        "            return indexed_sentence\n",
        "\n",
        "\n",
        "    def _sent_to_embed(self, sentence):\n",
        "        embed_sent = []\n",
        "        for word in sentence:\n",
        "            try:\n",
        "                embed_sent.append(self.word_embedding_model[word])\n",
        "            except KeyError:\n",
        "                embed_sent.append([0 for _ in range(cfg.word_embed_dim)])\n",
        "        return embed_sent\n",
        "\n",
        "    \n",
        "    def _pos_tags_to_index(self, tags):\n",
        "        return torch.stack([one_hot(torch.tensor(self.pos_tag_to_index[tag]), num_classes=cfg.num_pos_tags+1) for tag in tags])\n",
        "\n",
        "    \n",
        "    def _ezafe_tags_to_index(self, tags):\n",
        "        return [self.ezafe_tag_to_index[tag] for tag in tags]\n",
        "\n",
        "    def __len__(self):\n",
        "        return len(self.sents)\n",
        "\n",
        "    def __getitem__(self, idx):\n",
        "        char = True\n",
        "        pos=None\n",
        "        sent, pos_tag, ezafe_tag = self.sents[idx], self.all_pos_tags[idx], self.all_ezafe_tags[idx]\n",
        "        sent_char = self._sent_to_index(sent, mode='char')\n",
        "        sent_word = self._sent_to_embed(sent)\n",
        "        length = [1 for _ in range(len(sent))]\n",
        "        tag = self._ezafe_tags_to_index(ezafe_tag)\n",
        "        pos_tag = self._pos_tags_to_index(pos_tag)\n",
        "        pos_tag = torch.tensor(pos_tag)\n",
        "        # if char:\n",
        "        #     return (np.array(sent_word), np.array(sent_char), np.array(length)), np.array(tag)\n",
        "        if char:\n",
        "            return torch.tensor(sent_word), pos_tag, torch.tensor(tag)\n"
      ]
    },
    {
      "cell_type": "code",
      "execution_count": 22,
      "metadata": {
        "id": "ad6WjDiarCWW"
      },
      "outputs": [],
      "source": [
        "\n",
        "class KasreTokenizer:\n",
        "  def __init__(self, cfg, pos_pipe, normalizer):\n",
        "    self.normalizer = normalizer\n",
        "    self.pos_pipe = pos_pipe\n",
        "    punctuations = r')(}{:؟!،؛»«.' + r\"/<>?.,:;\"\n",
        "    self.punctuations = '[' + punctuations + string.punctuation + ']'\n",
        "    handle = open(cfg.we_pickled_model_dir, 'rb') \n",
        "    self.word_embedding_model = pickle.load(handle)\n",
        "    with open('indices.pickle', 'rb')  as handle:\n",
        "      self.char_to_index, self.word_to_index, self.pos_tag_to_index, self.ezafe_tag_to_index = pickle.load(handle)\n",
        "      self.index_to_word = {i: key for key, i in self.word_to_index.items()}\n",
        "      self.index_to_ezafe_tag = {i: key for key, i in self.ezafe_tag_to_index.items()}\n",
        "\n",
        "  def _sent_to_index(self, sentence, mode='word'):\n",
        "      if mode is 'word':\n",
        "          return [self.word_to_index.get(word, 1) for word in sentence]\n",
        "      elif mode is 'char':\n",
        "          indexed_sentence = []\n",
        "          for word in sentence:\n",
        "              indexed_word = []\n",
        "              for char in word:\n",
        "                  indexed_word.append(self.char_to_index.get(word, 1))\n",
        "              indexed_sentence.append(self._pad(indexed_word))\n",
        "          return indexed_sentence\n",
        "\n",
        "\n",
        "  def _sent_to_embed(self, sentence):\n",
        "      embed_sent = []\n",
        "      for word in sentence:\n",
        "          try:\n",
        "              embed_sent.append(self.word_embedding_model[word])\n",
        "          except KeyError:\n",
        "              embed_sent.append([0 for _ in range(cfg.word_embed_dim)])\n",
        "      return embed_sent\n",
        "\n",
        "  \n",
        "  def _pos_tager(self, text):\n",
        "    doc = self.pos_pipe(text)\n",
        "    pos = list()\n",
        "    for i in range(len(doc.sentences)):\n",
        "      for j in range(len(doc.sentences[i].tokens)):\n",
        "        text = doc.sentences[i].tokens[j].words[0].text\n",
        "        xpos = doc.sentences[i].tokens[j].words[0].xpos\n",
        "        pos.append(xpos)\n",
        "    return pos\n",
        "\n",
        "  def _pos_tags_to_index(self, tags):\n",
        "      return torch.stack([one_hot(torch.tensor(self.pos_tag_to_index[tag]), num_classes=cfg.num_pos_tags+1) for tag in tags])\n",
        "  \n",
        "  def _sent_to_pos(self, sent):\n",
        "      pos = self._pos_tager(sent)\n",
        "      return pos\n",
        "\n",
        "  def tokenizer(self, sent):\n",
        "      sent = self.normalizer.normalize(sent)\n",
        "      sent = re.sub(self.punctuations, lambda x: ' ' + x.group() + ' ', sent)\n",
        "      sent_ = sent.split()\n",
        "      sent_word = self._sent_to_embed(sent_)\n",
        "      pos_tag = self._sent_to_pos(sent)\n",
        "      pos_tag = self._pos_tags_to_index(pos_tag)\n",
        "      pos_tag = torch.tensor(pos_tag)\n",
        "      return torch.tensor(sent_word), pos_tag, sent_"
      ]
    },
    {
      "cell_type": "code",
      "execution_count": 23,
      "metadata": {
        "colab": {
          "base_uri": "https://localhost:8080/"
        },
        "id": "Oi0XojytXK2z",
        "outputId": "30db7518-3705-4658-ac3c-a75ff93d611b"
      },
      "outputs": [
        {
          "output_type": "stream",
          "name": "stdout",
          "text": [
            "670719\n",
            "data: 2\n",
            "{'PR_JOPER': 1, 'PR_CREFX': 2, 'PR_DEMON': 3, 'CONJ': 4, 'N_IANM': 5, 'SUBR': 6, 'AUX': 7, 'PR_RECPR': 8, 'V_PASS': 9, 'ADV_SADV': 10, 'PART': 11, 'AUX_PASS': 12, 'PRENUM': 13, 'PSUS': 14, 'POSTP': 15, 'PREM_QUAJ': 16, 'PR_UCREFX': 17, 'V_MODL': 18, 'ADR_PRADR': 19, 'ADJ_AJCM': 20, 'N_ANM': 21, 'PREP': 22, 'PR_INTG': 23, 'V_ACT': 24, 'IDEN': 25, 'ADR_POSADR': 26, 'PUNC': 27, 'PREM_DEMAJ': 28, 'PR_SEPER': 29, 'ADJ_AJP': 30, 'ADJ_AJSUP': 31, 'POSNUM': 32, 'PREM_AMBAJ': 33}\n"
          ]
        }
      ],
      "source": [
        "kasre_ds = KasreDS(cfg)"
      ]
    },
    {
      "cell_type": "code",
      "source": [
        "!cp fastText/cc.fa.100.pickle drive/MyDrive/fastText/"
      ],
      "metadata": {
        "id": "vLcCf9HrQb-f"
      },
      "execution_count": null,
      "outputs": []
    },
    {
      "cell_type": "code",
      "execution_count": null,
      "metadata": {
        "id": "D-SJzbuMKSJt"
      },
      "outputs": [],
      "source": [
        "!cp indices.pickle drive/MyDrive/"
      ]
    },
    {
      "cell_type": "code",
      "execution_count": null,
      "metadata": {
        "colab": {
          "base_uri": "https://localhost:8080/"
        },
        "id": "uxrv2eqDg4ME",
        "outputId": "85137f6e-58ab-463b-b449-7f5e4eb95d7f"
      },
      "outputs": [
        {
          "output_type": "execute_result",
          "data": {
            "text/plain": [
              "670719"
            ]
          },
          "metadata": {},
          "execution_count": 31
        }
      ],
      "source": [
        "len(kasre_ds)"
      ]
    },
    {
      "cell_type": "code",
      "execution_count": null,
      "metadata": {
        "colab": {
          "base_uri": "https://localhost:8080/"
        },
        "id": "IVPYR9ujIwqk",
        "outputId": "3ec83f08-1cfc-40b8-eba0-fe2e84869cf5"
      },
      "outputs": [
        {
          "output_type": "stream",
          "name": "stderr",
          "text": [
            "/usr/local/lib/python3.7/dist-packages/ipykernel_launcher.py:157: UserWarning: To copy construct from a tensor, it is recommended to use sourceTensor.clone().detach() or sourceTensor.clone().detach().requires_grad_(True), rather than torch.tensor(sourceTensor).\n",
            "/usr/local/lib/python3.7/dist-packages/ipykernel_launcher.py:161: UserWarning: Creating a tensor from a list of numpy.ndarrays is extremely slow. Please consider converting the list to a single numpy.ndarray with numpy.array() before converting to a tensor. (Triggered internally at  ../torch/csrc/utils/tensor_new.cpp:210.)\n"
          ]
        }
      ],
      "source": [
        "_, x, _ = kasre_ds[0]"
      ]
    },
    {
      "cell_type": "code",
      "execution_count": 24,
      "metadata": {
        "id": "M9TMY9oVkLbu"
      },
      "outputs": [],
      "source": [
        "train_dataset, val_dataset = torch.utils.data.random_split(kasre_ds,(669719, 1000), generator=torch.Generator().manual_seed(42) )"
      ]
    },
    {
      "cell_type": "code",
      "execution_count": 25,
      "metadata": {
        "colab": {
          "base_uri": "https://localhost:8080/"
        },
        "id": "aUhCr1mEsmn7",
        "outputId": "004a7474-00ca-4ea3-c003-251868797755"
      },
      "outputs": [
        {
          "output_type": "execute_result",
          "data": {
            "text/plain": [
              "device(type='cuda')"
            ]
          },
          "metadata": {},
          "execution_count": 25
        }
      ],
      "source": [
        "device = torch.device('cuda' if torch.cuda.is_available() else 'cpu')\n",
        "device"
      ]
    },
    {
      "cell_type": "code",
      "execution_count": 26,
      "metadata": {
        "id": "FUDmL6Ahkg51"
      },
      "outputs": [],
      "source": [
        "train_loader = DataLoader(\n",
        "    train_dataset, batch_size=1, shuffle=True, num_workers=0, pin_memory=True, \n",
        ")\n",
        "\n",
        "test_loader = DataLoader(\n",
        "    val_dataset, batch_size=1, shuffle=False, num_workers=0, pin_memory=True\n",
        ")\n",
        "\n",
        "val_loader = DataLoader(\n",
        "    val_dataset, batch_size=1, shuffle=False, num_workers=0, pin_memory=True\n",
        ")"
      ]
    },
    {
      "cell_type": "code",
      "execution_count": 27,
      "metadata": {
        "id": "FDmmOi4ptcHq"
      },
      "outputs": [],
      "source": [
        "dataloaders = {'train': train_loader,\n",
        "               'test': test_loader,\n",
        "               'val': val_loader}"
      ]
    },
    {
      "cell_type": "code",
      "execution_count": 28,
      "metadata": {
        "id": "AYg1NIvEI0D1"
      },
      "outputs": [],
      "source": [
        "class KasreAdder(nn.Module):\n",
        "  def __init__(self,cfg):\n",
        "    super().__init__()\n",
        "    self.cfg = cfg\n",
        "    self.lstm = nn.LSTM(cfg.word_embed_dim, cfg.lstm_units // 2,\n",
        "                            num_layers=2, bidirectional=True, batch_first=True)\n",
        "    \n",
        "    self.lstm_pos = nn.LSTM(34, 8,\n",
        "                            num_layers=1, bidirectional=True, batch_first=True)\n",
        "    \n",
        "    self.hidden2tag = nn.Linear(cfg.lstm_units+16, cfg.num_tags)\n",
        "    self.dropout = nn.Dropout()\n",
        "    self.hidden = self.init_hidden()\n",
        "\n",
        "  def init_hidden(self):\n",
        "    return (torch.zeros(4, 1, self.cfg.lstm_units // 2).to(device),\n",
        "            torch.zeros(4, 1, self.cfg.lstm_units // 2).to(device))\n",
        "\n",
        "  def init_hidden_pos(self):\n",
        "    return (torch.zeros(2, 1, 8).to(device),\n",
        "            torch.zeros(2, 1, 8).to(device)) \n",
        "  \n",
        "    \n",
        "  def forward(self, x, pos, hidden=None):\n",
        "    # print(f'x shape {x.shape}')\n",
        "    self.hidden = hidden\n",
        "    if hidden is None:\n",
        "      self.hidden = self.init_hidden()\n",
        "      self.hidden_pos = self.init_hidden_pos()\n",
        "    lstm_out, self.hidden = self.lstm(x, self.hidden,)\n",
        "    lstm_pos_out, self.hidden_pos = self.lstm_pos(pos, self.hidden_pos,)\n",
        "    # print(f'lstm_out {lstm_out.shape}')\n",
        "    # lstm_out = lstm_out.view(len(x), self.cfg.lstm_units)\n",
        "    lstm_out = torch.concat((lstm_out, lstm_pos_out), dim=2)\n",
        "    lstm_out = self.dropout(lstm_out)\n",
        "    lstm_feats = self.hidden2tag(lstm_out[0])\n",
        "    return lstm_feats\n",
        "    "
      ]
    },
    {
      "cell_type": "code",
      "execution_count": 29,
      "metadata": {
        "id": "oblrrmdmmlzq"
      },
      "outputs": [],
      "source": [
        "model = KasreAdder(cfg).to(device)"
      ]
    },
    {
      "cell_type": "code",
      "execution_count": 30,
      "metadata": {
        "id": "tijkR5ge2l5h"
      },
      "outputs": [],
      "source": [
        "# model.load_state_dict(torch.load('drive/MyDrive/kasre_pos_model_big.pt'))"
      ]
    },
    {
      "cell_type": "code",
      "execution_count": 32,
      "metadata": {
        "id": "ERgU-grwsIQ0"
      },
      "outputs": [],
      "source": [
        "lr=1e-3\n",
        "epochs = 6\n",
        "criterion = torch.nn.CrossEntropyLoss()\n",
        "optimizer = torch.optim.Adam(model.parameters(), lr=lr, weight_decay=1e-5)\n",
        "lr_scheduler = torch.optim.lr_scheduler.StepLR(optimizer, step_size=1, gamma=0.05)\n",
        "# lr_scheduler = torch.optim.lr_scheduler.ReduceLROnPlateau(optimizer, 'min', patience=3, threshold=0.05, min_lr=1e-7, verbose=True, factor=0.1)\n",
        "es_patience = 50"
      ]
    },
    {
      "cell_type": "code",
      "execution_count": 33,
      "metadata": {
        "id": "Sv9MhXOjsgqy"
      },
      "outputs": [],
      "source": [
        "def train(model, optimizer, criterion, lr_scheduler, dataloaders, num_epochs=10):\n",
        "  model = model.train()\n",
        "  train_loss_history = list()\n",
        "  val_loss_history = list()\n",
        "  best_epoch = {'epoch':0, 'accuracy':0, 'loss':-100.0}\n",
        "  model_path = f'checkpoints/RUN_{RUN}'\n",
        "  os.mkdir(model_path)\n",
        "  for epoch in range(num_epochs):\n",
        "    model = model.train()\n",
        "    pbar = tqdm(dataloaders['train'])\n",
        "    epoch_losses = np.array([])\n",
        "    for (batch, pos_batch, labels) in pbar:\n",
        "      batch = batch.to(device, dtype=torch.float)\n",
        "      pos_batch = pos_batch.to(device, dtype=torch.float)\n",
        "      labels = labels.to(device, dtype=torch.long)[0]\n",
        "      optimizer.zero_grad()\n",
        "      out = model(batch, pos_batch)\n",
        "      # print(batch.shape)\n",
        "      # print(labels.shape)\n",
        "      # print('*************')\n",
        "      # print(out.shape)\n",
        "      loss = criterion(out, labels)\n",
        "      loss.backward()\n",
        "      optimizer.step()\n",
        "      epoch_losses = np.append(epoch_losses, loss.item())\n",
        "      pbar.set_description(f'epoch {epoch+1}/{num_epochs},\\\n",
        "                            loss= {epoch_losses.mean():.4f}')\n",
        "    train_loss_history.append(epoch_losses.mean())\n",
        "    # lr_scheduler.step()\n",
        "\n",
        "    # validation\n",
        "    model = model.eval()\n",
        "    with torch.no_grad():\n",
        "      pbar = tqdm(dataloaders['val'])\n",
        "      val_loss = np.array([])\n",
        "      n_samples = 0\n",
        "      n_corrects = 0\n",
        "      for (batch, pos_batch, labels) in pbar:\n",
        "        batch = batch.to(device, dtype=torch.float)\n",
        "        pos_batch = pos_batch.to(device, dtype=torch.float)\n",
        "        labels = labels.to(device, dtype=torch.long)[0]\n",
        "        # labels = torch.tensor([l for l in labels for _ in range(30)]).to(device, dtype=torch.long)\n",
        "        out = model(batch, pos_batch)\n",
        "        loss = criterion(out, labels)\n",
        "        val_loss = np.append(val_loss, loss.item())\n",
        "        out = nn.Softmax()(out)\n",
        "        out = out.argmax(1)\n",
        "        n_corrects += (out == labels).sum()\n",
        "        n_samples += out.shape[0]\n",
        "      val_acc = n_corrects/n_samples\n",
        "      val_loss = val_loss.mean()\n",
        "      val_loss_history.append(val_loss)\n",
        "      lr_scheduler.step()\n",
        "      if val_acc > best_epoch['accuracy']:\n",
        "        best_epoch = {'epoch':epoch, 'accuracy':val_acc, 'loss':val_loss}\n",
        "        best_model_path = os.path.join(model_path, f'best_val_checkpoint.pt')\n",
        "        torch.save(model.state_dict(), best_model_path)\n",
        "      print(f'epoch {epoch+1}/{num_epochs}, loss:= {val_loss.mean():.4f}, accuracy= {(n_corrects/n_samples):.4f}')\n",
        "      pbar.set_description(f'epoch {epoch+1}/{num_epochs}, loss:= {val_loss.mean():.4f}, accuracy= {(n_corrects/n_samples):.4f}')\n",
        "    if (sorted(val_loss_history[-es_patience:]) == val_loss_history[-es_patience:]) and (len(val_loss_history)>2*es_patience):\n",
        "      break\n",
        "  model.load_state_dict(torch.load(best_model_path))\n",
        "  print(best_epoch)\n",
        "  return model, train_loss_history, val_loss_history"
      ]
    },
    {
      "cell_type": "code",
      "execution_count": 34,
      "metadata": {
        "colab": {
          "base_uri": "https://localhost:8080/"
        },
        "id": "5pBFH833tS7D",
        "outputId": "b1b16ae4-85bb-4861-b294-1809332aeed9"
      },
      "outputs": [
        {
          "metadata": {
            "tags": null
          },
          "name": "stderr",
          "output_type": "stream",
          "text": [
            "  0%|          | 0/669719 [00:00<?, ?it/s]/usr/local/lib/python3.7/dist-packages/ipykernel_launcher.py:157: UserWarning: To copy construct from a tensor, it is recommended to use sourceTensor.clone().detach() or sourceTensor.clone().detach().requires_grad_(True), rather than torch.tensor(sourceTensor).\n",
            "/usr/local/lib/python3.7/dist-packages/ipykernel_launcher.py:161: UserWarning: Creating a tensor from a list of numpy.ndarrays is extremely slow. Please consider converting the list to a single numpy.ndarray with numpy.array() before converting to a tensor. (Triggered internally at  ../torch/csrc/utils/tensor_new.cpp:210.)\n",
            "epoch 1/6,                            loss= 0.1018: 100%|██████████| 669719/669719 [1:50:28<00:00, 101.04it/s]\n",
            "  0%|          | 0/1000 [00:00<?, ?it/s]/usr/local/lib/python3.7/dist-packages/ipykernel_launcher.py:45: UserWarning: Implicit dimension choice for softmax has been deprecated. Change the call to include dim=X as an argument.\n",
            "100%|██████████| 1000/1000 [00:01<00:00, 523.37it/s]\n"
          ]
        },
        {
          "metadata": {
            "tags": null
          },
          "name": "stdout",
          "output_type": "stream",
          "text": [
            "epoch 1/6, loss:= 0.0826, accuracy= 0.9678\n"
          ]
        },
        {
          "metadata": {
            "tags": null
          },
          "name": "stderr",
          "output_type": "stream",
          "text": [
            "epoch 2/6,                            loss= 0.0732: 100%|██████████| 669719/669719 [1:53:06<00:00, 98.69it/s]\n",
            "100%|██████████| 1000/1000 [00:01<00:00, 528.70it/s]\n"
          ]
        },
        {
          "metadata": {
            "tags": null
          },
          "name": "stdout",
          "output_type": "stream",
          "text": [
            "epoch 2/6, loss:= 0.0670, accuracy= 0.9745\n"
          ]
        },
        {
          "metadata": {
            "tags": null
          },
          "name": "stderr",
          "output_type": "stream",
          "text": [
            "epoch 3/6,                            loss= 0.0702: 100%|██████████| 669719/669719 [1:52:43<00:00, 99.03it/s]\n",
            "100%|██████████| 1000/1000 [00:01<00:00, 527.88it/s]\n"
          ]
        },
        {
          "metadata": {
            "tags": null
          },
          "name": "stdout",
          "output_type": "stream",
          "text": [
            "epoch 3/6, loss:= 0.0660, accuracy= 0.9751\n"
          ]
        },
        {
          "output_type": "stream",
          "name": "stderr",
          "text": [
            "epoch 4/6,                            loss= 0.0699: 100%|██████████| 669719/669719 [1:51:14<00:00, 100.34it/s]\n",
            "100%|██████████| 1000/1000 [00:01<00:00, 525.40it/s]\n"
          ]
        },
        {
          "output_type": "stream",
          "name": "stdout",
          "text": [
            "epoch 4/6, loss:= 0.0659, accuracy= 0.9752\n"
          ]
        },
        {
          "output_type": "stream",
          "name": "stderr",
          "text": [
            "epoch 5/6,                            loss= 0.0699: 100%|██████████| 669719/669719 [1:51:48<00:00, 99.84it/s]\n",
            "100%|██████████| 1000/1000 [00:01<00:00, 522.63it/s]\n"
          ]
        },
        {
          "output_type": "stream",
          "name": "stdout",
          "text": [
            "epoch 5/6, loss:= 0.0659, accuracy= 0.9752\n"
          ]
        },
        {
          "output_type": "stream",
          "name": "stderr",
          "text": [
            "epoch 6/6,                            loss= 0.0699: 100%|██████████| 669719/669719 [1:52:01<00:00, 99.64it/s]\n",
            "100%|██████████| 1000/1000 [00:01<00:00, 527.62it/s]"
          ]
        },
        {
          "output_type": "stream",
          "name": "stdout",
          "text": [
            "epoch 6/6, loss:= 0.0659, accuracy= 0.9752\n",
            "{'epoch': 3, 'accuracy': tensor(0.9752, device='cuda:0'), 'loss': 0.0659012815601975}\n"
          ]
        },
        {
          "output_type": "stream",
          "name": "stderr",
          "text": [
            "\n"
          ]
        }
      ],
      "source": [
        "RUN += 1\n",
        "model, loss_history, val_loss_history = train(model, optimizer, criterion, lr_scheduler, dataloaders, epochs)"
      ]
    },
    {
      "cell_type": "code",
      "execution_count": null,
      "metadata": {
        "colab": {
          "base_uri": "https://localhost:8080/"
        },
        "id": "oPXYSGkDSWJH",
        "outputId": "4ddbb6b0-4144-4f27-be2f-4f83c9006d48"
      },
      "outputs": [
        {
          "output_type": "execute_result",
          "data": {
            "text/plain": [
              "1"
            ]
          },
          "metadata": {},
          "execution_count": 35
        }
      ],
      "source": [
        "RUN"
      ]
    },
    {
      "cell_type": "code",
      "execution_count": 35,
      "metadata": {
        "id": "bOxae36F5gdV"
      },
      "outputs": [],
      "source": [
        "!cp checkpoints/RUN_1/best_val_checkpoint.pt drive/MyDrive/kasre_pos_model_big_100d_3.pt"
      ]
    },
    {
      "cell_type": "code",
      "execution_count": 36,
      "metadata": {
        "id": "Xb8oVPlZTYrb",
        "colab": {
          "base_uri": "https://localhost:8080/"
        },
        "outputId": "73063788-3926-41f2-c577-ac128f60a70b"
      },
      "outputs": [
        {
          "output_type": "execute_result",
          "data": {
            "text/plain": [
              "KasreAdder(\n",
              "  (lstm): LSTM(100, 128, num_layers=2, batch_first=True, bidirectional=True)\n",
              "  (lstm_pos): LSTM(34, 8, batch_first=True, bidirectional=True)\n",
              "  (hidden2tag): Linear(in_features=272, out_features=6, bias=True)\n",
              "  (dropout): Dropout(p=0.5, inplace=False)\n",
              ")"
            ]
          },
          "metadata": {},
          "execution_count": 36
        }
      ],
      "source": [
        "model.load_state_dict(torch.load('drive/MyDrive/kasre_pos_model_big_100d_3.pt'))\n",
        "model.eval()"
      ]
    },
    {
      "cell_type": "code",
      "execution_count": 37,
      "metadata": {
        "id": "yD-JZKh5v-hW"
      },
      "outputs": [],
      "source": [
        "from parsivar import Normalizer\n",
        "import re"
      ]
    },
    {
      "cell_type": "code",
      "execution_count": 38,
      "metadata": {
        "id": "NDXGSM19u-FM"
      },
      "outputs": [],
      "source": [
        "my_normalizer = Normalizer()\n",
        "tokenizer = KasreTokenizer(cfg, pos_pipe=nlp_pos, normalizer=my_normalizer)"
      ]
    },
    {
      "cell_type": "code",
      "execution_count": 39,
      "metadata": {
        "id": "5hv8WcjC5cg7"
      },
      "outputs": [],
      "source": [
        "\n",
        "tag2kasre =  {0:'',\n",
        "              1:'ِ',\n",
        "              2:'‌یِ',\n",
        "              3:'ِ',\n",
        "              4:'ی',\n",
        "              5:'ِ'}\n",
        "\n",
        "def add_kasre(sent):\n",
        "  sent_words, pos, sent_ = tokenizer.tokenizer(sent)\n",
        "  # print(sent_)\n",
        "  sent_words = torch.tensor(sent_words).float().to(device)\n",
        "  pos = torch.tensor(pos).float().to(device)\n",
        "  # print(f'sent shape {sent_words.shape}, pos shape {pos.shape}')\n",
        "  with torch.no_grad():\n",
        "    out = model(sent_words.unsqueeze(0), pos.unsqueeze(0))\n",
        "    out = nn.Softmax()(out)\n",
        "    out = out.argmax(1).cpu().numpy()\n",
        "  result = ''\n",
        "  # print(out)\n",
        "  for i,word in enumerate(sent_):\n",
        "    ezafe_tag = tag2kasre[out[i]]\n",
        "    if (word[-1] in ['ی']) and out[i]==2:\n",
        "      ezafe_tag = tag2kasre[1]\n",
        "    result += word + ezafe_tag + ' '\n",
        "  return result\n",
        "\n",
        "\n"
      ]
    },
    {
      "cell_type": "code",
      "execution_count": 40,
      "metadata": {
        "id": "lF4-e3bxvpxI"
      },
      "outputs": [],
      "source": [
        "import time"
      ]
    },
    {
      "cell_type": "code",
      "execution_count": 40,
      "metadata": {
        "id": "hH5_WcMjSURs"
      },
      "outputs": [],
      "source": [
        ""
      ]
    },
    {
      "cell_type": "code",
      "execution_count": 46,
      "metadata": {
        "colab": {
          "base_uri": "https://localhost:8080/"
        },
        "id": "_zV5RDmOqAgV",
        "outputId": "31040959-bb37-4ab1-825c-35904fe3437d"
      },
      "outputs": [
        {
          "output_type": "stream",
          "name": "stdout",
          "text": [
            "از بعدِ علمی و فرهنگی ، ایران به اندازه‌یِ 100 سال پیشرفت داشته است . \n",
            "0.021248817443847656\n"
          ]
        },
        {
          "output_type": "stream",
          "name": "stderr",
          "text": [
            "/usr/local/lib/python3.7/dist-packages/ipykernel_launcher.py:62: UserWarning: To copy construct from a tensor, it is recommended to use sourceTensor.clone().detach() or sourceTensor.clone().detach().requires_grad_(True), rather than torch.tensor(sourceTensor).\n",
            "/usr/local/lib/python3.7/dist-packages/ipykernel_launcher.py:12: UserWarning: To copy construct from a tensor, it is recommended to use sourceTensor.clone().detach() or sourceTensor.clone().detach().requires_grad_(True), rather than torch.tensor(sourceTensor).\n",
            "  if sys.path[0] == '':\n",
            "/usr/local/lib/python3.7/dist-packages/ipykernel_launcher.py:13: UserWarning: To copy construct from a tensor, it is recommended to use sourceTensor.clone().detach() or sourceTensor.clone().detach().requires_grad_(True), rather than torch.tensor(sourceTensor).\n",
            "  del sys.path[0]\n",
            "/usr/local/lib/python3.7/dist-packages/ipykernel_launcher.py:17: UserWarning: Implicit dimension choice for softmax has been deprecated. Change the call to include dim=X as an argument.\n"
          ]
        }
      ],
      "source": [
        "start = time.time()\n",
        "print(add_kasre('از بعد علمی و فرهنگی ، ایران به اندازه ۱۰۰ سال پیشرفت داشته است.'))\n",
        "end = time.time()\n",
        "print(end - start)"
      ]
    },
    {
      "cell_type": "code",
      "source": [
        "start = time.time()\n",
        "print(add_kasre('من معلم شما هستم'))\n",
        "end = time.time()\n",
        "print(end - start)"
      ],
      "metadata": {
        "colab": {
          "base_uri": "https://localhost:8080/"
        },
        "id": "KTe_zniUAk9Z",
        "outputId": "b83ba1fc-77d2-4820-ffeb-a0be12fabb9c"
      },
      "execution_count": 49,
      "outputs": [
        {
          "output_type": "stream",
          "name": "stdout",
          "text": [
            "من معلمِ شما هستم \n",
            "0.017784595489501953\n"
          ]
        },
        {
          "output_type": "stream",
          "name": "stderr",
          "text": [
            "/usr/local/lib/python3.7/dist-packages/ipykernel_launcher.py:62: UserWarning: To copy construct from a tensor, it is recommended to use sourceTensor.clone().detach() or sourceTensor.clone().detach().requires_grad_(True), rather than torch.tensor(sourceTensor).\n",
            "/usr/local/lib/python3.7/dist-packages/ipykernel_launcher.py:12: UserWarning: To copy construct from a tensor, it is recommended to use sourceTensor.clone().detach() or sourceTensor.clone().detach().requires_grad_(True), rather than torch.tensor(sourceTensor).\n",
            "  if sys.path[0] == '':\n",
            "/usr/local/lib/python3.7/dist-packages/ipykernel_launcher.py:13: UserWarning: To copy construct from a tensor, it is recommended to use sourceTensor.clone().detach() or sourceTensor.clone().detach().requires_grad_(True), rather than torch.tensor(sourceTensor).\n",
            "  del sys.path[0]\n",
            "/usr/local/lib/python3.7/dist-packages/ipykernel_launcher.py:17: UserWarning: Implicit dimension choice for softmax has been deprecated. Change the call to include dim=X as an argument.\n"
          ]
        }
      ]
    },
    {
      "cell_type": "code",
      "execution_count": null,
      "metadata": {
        "colab": {
          "base_uri": "https://localhost:8080/"
        },
        "id": "ue5KdNw3p0Ud",
        "outputId": "ec443085-1f28-4834-897f-1f1cd108195d"
      },
      "outputs": [
        {
          "output_type": "stream",
          "name": "stderr",
          "text": [
            "/usr/local/lib/python3.7/dist-packages/ipykernel_launcher.py:62: UserWarning: To copy construct from a tensor, it is recommended to use sourceTensor.clone().detach() or sourceTensor.clone().detach().requires_grad_(True), rather than torch.tensor(sourceTensor).\n",
            "/usr/local/lib/python3.7/dist-packages/ipykernel_launcher.py:11: UserWarning: To copy construct from a tensor, it is recommended to use sourceTensor.clone().detach() or sourceTensor.clone().detach().requires_grad_(True), rather than torch.tensor(sourceTensor).\n",
            "  # This is added back by InteractiveShellApp.init_path()\n",
            "/usr/local/lib/python3.7/dist-packages/ipykernel_launcher.py:12: UserWarning: To copy construct from a tensor, it is recommended to use sourceTensor.clone().detach() or sourceTensor.clone().detach().requires_grad_(True), rather than torch.tensor(sourceTensor).\n",
            "  if sys.path[0] == '':\n",
            "/usr/local/lib/python3.7/dist-packages/ipykernel_launcher.py:16: UserWarning: Implicit dimension choice for softmax has been deprecated. Change the call to include dim=X as an argument.\n",
            "  app.launch_new_instance()\n",
            "/usr/local/lib/python3.7/dist-packages/stanza/models/common/beam.py:86: UserWarning: __floordiv__ is deprecated, and its behavior will change in a future version of pytorch. It currently rounds toward 0 (like the 'trunc' function NOT 'floor'). This results in incorrect rounding for negative values. To keep the current behavior, use torch.div(a, b, rounding_mode='trunc'), or for actual floor division, use torch.div(a, b, rounding_mode='floor').\n",
            "  prevK = bestScoresId // numWords\n"
          ]
        },
        {
          "output_type": "stream",
          "name": "stdout",
          "text": [
            "تفسیر : \n",
            "تفسیر: \n",
            "\n",
            "جین دو بلسیل عطشِ زیادی برای جلبِ توجه داشت . \n",
            "جین دو بلسیل عطش زیادی برای جلب توجه داشت. \n",
            "\n",
            "او والدینش را خسته کرده‌بود ، طوری که مجبور شدند او را به صومعه‌ای در شهرِ پواتیه بفرستند . \n",
            "او والدینش را خسته کرده بود، طوری که مجبور شدند او را به صومعه ای در شهر پواتیه بفرستند. \n",
            "\n",
            "او در آنجا با خودخواهی‌ها و حسِ برتریِ اش دیگر راهبه‌ها را به حدِ جنون رساند . \n",
            "او در آنجا با خودخواهی ها و حس برتری اش دیگر راهبه ها را به حد جنون رساند. \n",
            "\n",
            "وقتی به لودون فرستاده شد ، تصمیم گرفت روشی متفاوت در پیش بگیرد تا به شهرتی که شدیدا به آن نیاز داشت ، دست یابد . \n",
            "وقتی به لودون فرستاده شد، تصمیم گرفت روشی متفاوت در پیش بگیرد تا به شهرتی که شدیداً به آن نیاز داشت، دست یابد. \n",
            "\n",
            "وقتی به او کتاب‌هایی در زمینه‌یِ معنویت داده شد ، به این نتیجه رسید که از نظرِ دانش و عرفان از بقیه پیشی گیرد تا برتریِ خود را اثبات کند . \n",
            "وقتی به او کتاب هایی در زمینۀ معنویت داده شد، به این نتیجه رسید که از نظر دانش و عرفان از بقیه پیشی گیرد تا برتری خود را اثبات کند. \n",
            "\n",
            "او در هر دو زمینه از خود درخشش نشان داد تا توانست نظرِ رئیسِ صومعه را جلب کند . \n",
            "او در هر دو زمینه از خود درخشش نشان داد تا توانست نظر رئیس صومعه را جلب کند. \n",
            "\n",
            "اما وقتی به عنوانِ ریاستِ صومعه انتخاب شد ، بی‌حوصله‌بود و توجهی که می‌گرفت برایش کافی نبود . \n",
            "اما وقتی به عنوان ریاست صومعه انتخاب شد، بی حوصله بود و توجهی که می گرفت برایش کافی نبود. \n",
            "\n",
            "خواب‌هایی که از گرندیر تعریف می‌کرد ، آمیزه‌ای از دروغ و تلقین‌بود . \n",
            "خواب هایی که از گرندیر تعریف می کرد، آمیزه ای از دروغ و تلقین بود. \n",
            "\n",
            "وقتی جن گیرها از راه رسیدند ، به او کتابی درباره‌یِ شیطان‌شناسی دادند و جین تمامِ آن را خواند تا فوتِ وفن‌یِ تسخیرشدگی توسطِ شیطان را بیاموزد و به جن گیرها نشانه‌هایی دقیق و مطمئن بدهد . \n",
            "وقتی جن گیرها از راه رسیدند، به او کتابی دربارۀ شیطان شناسی دادند و جین تمام آن را خواند تا فوت وفن تسخیرشدگی توسط شیطان را بیاموزد و به جن گیرها نشانه هایی دقیق و مطمئن بدهد. \n",
            "\n",
            "او حالا ستاره‌یِ تماشاچیان شده‌بود . \n",
            "او حالا ستارۀ تماشاچیان شده بود. \n",
            "\n",
            "او بیشتر از دیگر راهبه‌ها رفتارهایی عجیب که نشان از تنزلِ عرفانیِ او داشتند ، انجام می‌داد . \n",
            "او بیشتر از دیگر راهبه ها رفتارهایی عجیب که نشان از تنزل عرفانی او داشتند، انجام می داد.\n",
            "\n",
            "پس از اعدامِ وحشتناکِ گرندیر ، که تاثیرِ عمیقی بر راهبه‌ها گذاشته‌بود ، زیرا خود را تا حدی در آن مقصر می‌دانستند ، جین کمبودِ توجهِ زیادی را تجربه کرد و آن را غیرقابلِ تحمل دید ؛ \n",
            "پس از اعدام وحشتناک گرندیر، که تأثیر عمیقی بر راهبه ها گذاشته بود، زیرا خود را تا حدی در آن مقصر می دانستند، جین کمبود توجه زیادی را تجربه کرد و آن را غیرقابل تحمل دید؛\n",
            "\n",
            "پس طوری وانمود کرد که گویی شیاطین دست از سرِ او برنمی دارند . \n",
            " پس طوری وانمود کرد که گویی شیاطین دست از سر او برنمی دارند. \n",
            "\n",
            "او به استادی ماهر در تشخیصِ نقاطِ ضعف و تمناهایِ خفته‌یِ اطرافیانِ خود یعنی جن گیرها ، راهبه‌ها و حالا پدرِ سورین تبدیل شده‌بود . \n",
            "او به استادی ماهر در تشخیص نقاط ضعف و تمناهای خفتۀ اطرافیان خود یعنی جن گیرها، راهبه ها و حالا پدر سورین تبدیل شده بود. \n",
            "\n",
            "پدرِ سورین بسیار دوست داشت که به عنوانِ ناجیِ جین از دستِ شیاطین شناخته شود ، پس به سادگی فریبِ آن به اصطلاحِ معجزات را خورد . \n",
            "پدر سورین بسیار دوست داشت که به عنوان ناجی جین از دست شیاطین شناخته شود، پس به سادگی فریب آن به اصطلاح معجزات را خورد. \n",
            "\n",
            "درباره‌یِ نشانه‌هایِ کفِ دستِ چپ بررسی‌هایِ بعدی نشان داد که جین خودش این اسامی را با اسید یا با نشاسته‌هایِ رنگیِ کفِ دستش می‌نوشته است . \n",
            "دربارۀ نشانه های کف دست چپ بررسی های بعدی نشان داد که جین خودش این اسامی را با اسید یا با نشاسته های رنگی کف دستش می نوشته است. \n",
            "\n",
            "این بسیار عجیب‌بود که نشانه‌ها کفِ دستِ چپِ او نمایان می‌شدند و دلیلش این‌بود که او راستِ دست‌بود و خودش آن‌ها را می‌نوشت . \n",
            "این بسیار عجیب بود که نشانه ها کف دست چپ او نمایان می شدند و دلیلش این بود که او راست دست بود و خودش آن ها را می نوشت. \n",
            "\n",
            "گفته می‌شود وقتی فردی دچارِ هیستری باشد ، پوستِ بدنِ او بسیار نازک می‌شود و حتی یک خراشِ ناخن نیز می‌تواند رویِ پوستِ او ردی به جا بگذارد . \n",
            "گفته می شود وقتی فردی دچار هیستری باشد، پوست بدن او بسیار نازک می شود و حتی یک خراش ناخن نیز می تواند روی پوست او ردی به جا بگذارد. \n",
            "\n",
            "در موردِ تدهین17 نیز جین به عنوانِ کسی که سال‌ها با درمان‌هایِ گیاهی سروکار داشت ، به خوبی می‌توانست قطره‌هایِ معطرِ ماندگاری را انتخاب کند . \n",
            "در مورد تدهین17 نیز جین به عنوان کسی که سال ها با درمان های گیاهی سروکار داشت، به خوبی می توانست قطره های معطر ماندگاری را انتخاب کند. \n",
            "\n",
            "آن‌هایی که به راحتیِ فریبِ نشانه‌یِ کفِ دستش را خوردند ، به راحتی نیز آن داستان تدهین را باور کردند . \n",
            "آن هایی که به راحتی فریب نشانۀ کف دستش را خوردند، به راحتی نیز آن داستان تدهین را باور کردند.\n",
            "\n",
            "حتی سورین نیز به درخواستِ نیاز به سفر شک کرد . \n",
            "حتی سورین نیز به درخواست نیاز به سفر شک کرد. \n",
            "\n",
            "در این مرحله جین دیگر نمی‌توانست نیاز به توجه را از کسی پنهان کند . \n",
            "در این مرحله جین دیگر نمی توانست نیاز به توجه را از کسی پنهان کند. \n",
            "\n",
            "سال‌ها بعد ، جین یک خودزندگی نامه نوشت که در آن شخصیتِ نمایشی خود را پذیرفته‌بود . \n",
            "سال ها بعد، جین یک خودزندگی نامه نوشت که در آن شخصیت نمایشی خود را پذیرفته بود. \n",
            "\n",
            "او دائم در حالِ نقشِ بازیِ کردن‌بود ، هرچند که ادعا می‌کرد معجزه‌یِ آخر ، واقعی بوده است . \n",
            "او دائم در حال نقش بازی کردن بود، هرچند که ادعا می کرد معجزۀ آخر، واقعی بوده است. \n",
            "\n",
            "بسیاری از خواهرها که هر روز با او در تعامل‌بودند ، این وجهه‌یِ شخصیتیِ او را می‌شناختند و او را یک هنرپیشه‌یِ تشنه‌یِ شهرت و توجه توصیف می‌کردند . \n",
            "بسیاری از خواهرها که هر روز با او در تعامل بودند، این وجهۀ شخصیتی او را می شناختند و او را یک هنرپیشۀ تشنۀ شهرت و توجه توصیف می کردند.\n",
            "\n",
            "یکی از عجیب ترین تضادها درباره‌یِ خودشیفتگیِ عمیق این است که اغلب قابلِ تشخیص نیست ، مگر آنکه رفتارِ فرد آنقدر افراطی باشد که نادیده گرفتنِ آن مشکل شود . \n",
            "یکی از عجیب ترین تضادها دربارۀ خودشیفتگی عمیق این است که اغلب قابل تشخیص نیست، مگر آنکه رفتار فرد آنقدر افراطی باشد که نادیده گرفتن آن مشکل شود. \n",
            "\n",
            "دلیلش ساده است : \n",
            "دلیلش ساده است: \n",
            "\n",
            "خودشیفتگان عمیقِ استاد پنهان کاری‌اند . \n",
            "خودشیفتگان عمیق استاد پنهان کاری اند. \n",
            "\n",
            "آن‌ها از همان ابتدا می‌دانند که اگر شخصیتِ اصلیِ خود یعنی نیاز به توجه و برتری را رو کنند ، مردم از آن‌ها دور می‌شوند . \n",
            "آن ها از همان ابتدا می دانند که اگر شخصیت اصلی خود یعنی نیاز به توجه و برتری را رو کنند، مردم از آن ها دور می شوند. \n",
            "\n",
            "آن‌ها فقدانِ یک خودِ منسجم را امتیاز می‌دانند . \n",
            "آن ها فقدان یک خود منسجم را امتیاز می دانند. \n",
            "\n",
            "آن‌ها می‌توانند نقش‌هایِ زیادی بازی کنند . \n",
            "آن ها می توانند نقش های زیادی بازی کنند. \n",
            "\n",
            "می‌توانند نیاز به توجه را با ابزارِ گوناگون مخفی کنند . \n",
            "می توانند نیاز به توجه را با ابزار گوناگون مخفی کنند. \n",
            "\n",
            "آن‌ها می‌توانند بیشتر از آدم‌هایِ عادیِ خود را اخلاقِ گرا و متدین نشان دهند . \n",
            "آن ها می توانند بیشتر از آدم های عادی خود را اخلاق گرا و متدین نشان دهند. \n",
            "\n",
            "آن‌ها هرگز از یک هدفِ خوب و اخلاقی حمایت نمی‌کنند و در خدمتش نیستند ، اما تظاهر به این کار را بلدند . \n",
            "آن ها هرگز از یک هدف خوب و اخلاقی حمایت نمی کنند و در خدمتش نیستند، اما تظاهر به این کار را بلدند. \n",
            "\n",
            "چه کسی می‌تواند جدیتِ این نمایشِ اخلاقی را زیرِ سوال ببرد ؟ گاهی نیز مسیری مخالف را در پیش می‌گیرند و خود را یک قربانی یا فردی که در دستِ یک ظالم افتاده است و دنیا او را نمی‌بیند ، جا می‌زنند . \n",
            "چه کسی می تواند جدیت این نمایش اخلاقی را زیر سؤال ببرد؟ گاهی نیز مسیری مخالف را در پیش می گیرند و خود را یک قربانی یا فردی که در دست یک ظالم افتاده است و دنیا او را نمی بیند، جا می زنند. \n",
            "\n",
            "کافی است همان یک لحظه فریبشان را بخورید تا بعدها طعمه‌یِ نیازهایِ آن‌ها یا وسیله‌یِ رسیدن به هدف‌هایشان شوید . \n",
            "کافی است همان یک لحظه فریبشان را بخورید تا بعدها طعمۀ نیازهای آن ها یا وسیلۀ رسیدن به هدف هایشان شوید. \n",
            "\n",
            "آن‌ها همدلیِ شما را به بازی می‌گیرند . \n",
            "آن ها همدلی شما را به بازی می گیرند.\n",
            "\n",
            "تنها راهکار این است که حیله‌یِ شان را به خوبی بشناسید . \n",
            "تنها راهکار این است که حیله شان را به خوبی بشناسید. \n",
            "\n",
            "این طور آن‌ها را تشخیص دهید که همیشه تمرکز را بر خودشان می‌گذارند . \n",
            "این طور آن ها را تشخیص دهید که همیشه تمرکز را بر خودشان می گذارند. \n",
            "\n",
            "توجه کنید که چطور همیشه در نیکی یا در رنج یا حتی در فسادِ خودشان را برتر از همه نشان می‌دهند . \n",
            "توجه کنید که چطور همیشه در نیکی یا در رنج یا حتی در فساد خودشان را برتر از همه نشان می دهند. \n",
            "\n",
            "به کیفیتِ نمایشی دائمیِ رفتارها و حرکاتشان نگاه کنید . \n",
            "به کیفیت نمایشی دائمی رفتارها و حرکاتشان نگاه کنید. \n",
            "\n",
            "هرچه می‌گویند یا انجام می‌دهند مصرفِ عمومی دارد . \n",
            "هرچه می گویند یا انجام می دهند مصرف عمومی دارد. \n",
            "\n",
            "اجازه ندهید در سناریویِ آن‌ها قربانی شوید . \n",
            "اجازه ندهید در سناریوی آن ها قربانی شوید.\n",
            "\n",
            "3 . \n",
            "3. \n",
            "\n",
            "زوجِ خودشیفته . \n",
            "زوج خودشیفته. \n",
            "\n",
            "در سالِ 1862 ، چند روز قبل از آنکه لئو تولستوی سی ودو ساله ، سونیا بهرز را که فقط هجده سال داشت به عقدِ خود درآورد ، تصمیم گرفت که هیچ رازی بینِ آن دو پنهان نماند . \n",
            "در سال 1862، چند روز قبل از آنکه لئو تولستوی سی ودو ساله، سونیا بهرز را که فقط هجده سال داشت به عقد خود درآورد، تصمیم گرفت که هیچ رازی بین آن دو پنهان نماند. \n",
            "\n",
            "به عنوانِ بخشی از این رازگشاییِ او دفترچه‌یِ یادداشت‌هایش را به سونیا داد . \n",
            "به عنوان بخشی از این رازگشایی او دفترچۀ یادداشت هایش را به سونیا داد. \n",
            "\n",
            "سونیا همان طورکه آن‌ها را می‌خواند ، می‌گریست و عصبانی شده‌بود . \n",
            "سونیا همان طورکه آن ها را می خواند، می گریست و عصبانی شده بود. \n",
            "\n",
            "در این صفحات تولستوی همه چیز از جمله رابطه‌یِ اش با یک زنِ روستایی را که از او پسری نامشروع داشت ، نوشته‌بود . \n",
            "در این صفحات تولستوی همه چیز از جمله رابطه اش با یک زن روستایی را که از او پسری نامشروع داشت، نوشته بود. \n",
            "\n",
            "او همچنین از قمارها و زنانِ فاحشه‌ای نوشته‌بود که با آن‌ها حشرونشر داشت . \n",
            "او همچنین از قمارها و زنان فاحشه ای نوشته بود که با آن ها حشرونشر داشت. \n",
            "\n",
            "سونیا با خواندنِ این صفحات هم حسِ حسادتش برانگیخته شد هم نفرت و بیزاریِ تمامِ وجودش را گرفت . \n",
            "سونیا با خواندن این صفحات هم حس حسادتش برانگیخته شد هم نفرت و بیزاری تمام وجودش را گرفت. \n",
            "\n",
            "چه چیز باعث شد تولستوی سونیا را به خواندنِ یادداشت‌ها وادارد ؟ سونیا تولستوی را متهم کرد که دوستش ندارد و همواره فکرش پیشِ زنانِ دیگر است . \n",
            "چه چیز باعث شد تولستوی سونیا را به خواندن یادداشت ها وادارد؟ سونیا تولستوی را متهم کرد که دوستش ندارد و همواره فکرش پیش زنان دیگر است. \n",
            "\n",
            "وقتی تولستوی چنین واکنشی را دید ، خودش هم همین اتهامات را به سونیا زد . \n",
            "وقتی تولستوی چنین واکنشی را دید، خودش هم همین اتهامات را به سونیا زد. \n",
            "\n",
            "تولستوی می‌خواست با این دفترچه روزهایِ گذشته‌یِ خود را با سونیا شریک شود و به او بفهماند که به خاطرِ عشقش به سونیا تمامِ آن خوشگذرانی‌ها را کنار گذاشته است و می‌خواهد با او زندگیِ جدیدی را شروع کند . \n",
            "تولستوی می خواست با این دفترچه روزهای گذشتۀ خود را با سونیا شریک شود و به او بفهماند که به خاطر عشقش به سونیا تمام آن خوشگذرانی ها را کنار گذاشته است و می خواهد با او زندگی جدیدی را شروع کند. \n",
            "\n",
            "حالا چرا سونیا باید صداقتِ او را زیرِ سوال می‌برد ؟ به نظر می‌رسید سونیا آن طورکه ادعا می‌کرد ، تولستوی را دوست نداشت . \n",
            "حالا چرا سونیا باید صداقت او را زیر سؤال می برد؟ به نظر می رسید سونیا آن طورکه ادعا می کرد، تولستوی را دوست نداشت. \n",
            "\n",
            "اصلا چرا خداحافظی با خانواده‌یِ اش قبل از جشن برایش سخت‌بود ؟ آیا خانواده‌یِ اش را بیشتر از تولستوی دوست داشت ؟ آن‌ها سرانجام آشتی کردند و عروسی گرفتند ، اما الگویی به زندگیِ آن‌ها رخنه کرد که چهل وهشت سال ادامه داشت . \n",
            "اصلاً چرا خداحافظی با خانواده اش قبل از جشن برایش سخت بود؟ آیا خانواده اش را بیشتر از تولستوی دوست  داشت؟ آن ها سرانجام آشتی کردند و عروسی گرفتند، اما الگویی به زندگی آن ها رخنه کرد که چهل وهشت سال ادامه داشت.\n",
            "\n",
            "زندگیِ مشترک به رغمِ درگیری‌هایِ لفظیِ مکرر برای سونیا یک ضرباهنگ آرام گرفت . \n",
            "زندگی مشترک به رغم درگیری های لفظی مکرر برای سونیا یک ضرباهنگ آرام گرفت. \n",
            "\n",
            "او به معتمدترین دستیارِ تولستوی تبدیل شد . \n",
            "او به معتمدترین دستیار تولستوی تبدیل شد. \n",
            "\n",
            "کنارِ زایمانِ هشت بچه در طولِ دوازده سال که البته پنج تایِ آن‌ها زنده ماندند ، او به دقتِ کتاب‌هایِ تولستوی از جمله جنگ و صلح و آنا کارنینا را نسخه برداری می‌کرد و بیشترِ امورِ مربوط به چاپ را نیز خود عهده‌یِ دار‌بود . \n",
            "کنار زایمان هشت بچه در طول دوازده سال که البته پنج تای آن ها زنده ماندند، او به دقت کتاب های تولستوی از جمله جنگ و صلح و آنا کارنینا را نسخه برداری می کرد و بیشتر امور مربوط به چاپ را نیز خود عهده دار بود. \n",
            "\n",
            "همه چیز در زندگیِ آن دو خوب پیش می‌رفت . \n",
            "همه چیز در زندگی آن دو خوب پیش می رفت. \n",
            "\n",
            "او مردی ثروتمند‌بود و در کنارِ درآمدِ خوبی که از کتاب‌هایش داشت ، زمین‌هایی ارزشمند نیز به ارث برده‌بود . \n",
            "او مردی ثروتمند بود و در کنار درآمد خوبی که از کتاب هایش داشت، زمین هایی ارزشمند نیز به ارث برده بود. \n",
            "\n",
            "او خانواده‌یِ بزرگی داشت که به او علاقه‌یِ زیادی داشتند . \n",
            "او خانوادۀ بزرگی داشت که به او علاقۀ زیادی داشتند. \n",
            "\n",
            "او مشهور‌بود . \n",
            "او مشهور بود. \n",
            "\n",
            "اما ناگهان در پنجاه سالگی ، به شدت احساسِ غم و اندوه کرد و از کتاب‌هایی که نوشته‌بود ، احساسِ شرمساری کرد . \n",
            "اما ناگهان در پنجاه سالگی، به شدت احساس غم و اندوه کرد و از کتاب هایی که نوشته بود، احساس شرمساری کرد. \n",
            "\n",
            "او دیگر نمی‌دانست کیست و بحرانِ روحیِ عمیقی را تجربه می‌کرد . \n",
            "او دیگر نمی دانست کیست و بحران روحی عمیقی را تجربه می کرد. \n",
            "\n",
            "از نظرِ تولستوی کلیسایِ کاتولیکِ متعصب تر از آن‌بود که بتواند از آن‌ها کمکی بگیرد . \n",
            "از نظر تولستوی کلیسای کاتولیک متعصب تر از آن بود که بتواند از آن ها کمکی بگیرد. \n",
            "\n",
            "زندگیِ او تغییر کرد . \n",
            "زندگی او تغییر کرد. \n",
            "\n",
            "دیگر رمانی ننوشت و مانندِ یک رعیت به زندگی ادامه داد . \n",
            "دیگر رمانی ننوشت و مانند یک رعیت به زندگی ادامه داد. \n",
            "\n",
            "او تمامِ دارایی‌هایش را رها کرد و حقِ التالیفِ کتاب‌هایش را باطل کرد و از خانواده‌یِ خود خواست تا در این سبکِ جدیدِ زندگی با او همراه شوند و زندگیِ خود را وقفِ کمک به دیگران و امورِ روحانی کنند . \n",
            "او تمام دارایی هایش را رها کرد و حق التألیف کتاب هایش را باطل کرد و از خانوادۀ خود خواست تا در این سبک جدید زندگی با او همراه شوند و زندگی خود را وقف کمک به دیگران و امور روحانی کنند.\n",
            "\n",
            "برخلافِ انتظارش ، خانواده به ویژه‌یِ سونیا از این کار سر باز زد و با عصبانیت واکنش نشان داد . \n",
            "برخلاف انتظارش، خانواده به ویژه سونیا از این کار سر باز زد و با عصبانیت واکنش نشان داد. \n",
            "\n",
            "تولستوی از آن‌ها خواسته‌بود که سبکِ زندگی ، رفاه و آسایش و حتی میراثشان را رها کنند . \n",
            "تولستوی از آن ها خواسته بود که سبک زندگی، رفاه و آسایش و حتی میراثشان را رها کنند. \n",
            "\n",
            "سونیا هیچ نیازی به این تغییرِ عجیب در زندگیِ اش نمی‌دید و از تهمت‌هایِ تولستوی که او را شیطان زده و مادیِ گرا می‌خواند ، بیزار‌بود . \n",
            "سونیا هیچ نیازی به این تغییر عجیب در زندگی اش نمی دید و از تهمت های تولستوی که او را شیطان زده و مادی گرا می خواند، بیزار بود. \n",
            "\n",
            "آن‌ها یکریز مشاجره داشتند و هرگز اعلامِ آتش بس نمی‌کردند . \n",
            "آن ها یکریز مشاجره داشتند و هرگز اعلام آتش بس نمی کردند. \n",
            "\n",
            "حالا وقتی تولستوی همسرِ خود را تحلیل می‌کرد ، تمامِ چیزی که می‌دید فردی‌بود که از او به خاطرِ شهرت و پولش خوشش آمده‌بود . \n",
            "حالا وقتی تولستوی همسر خود را تحلیل می کرد، تمام چیزی که می دید فردی بود که از او به خاطر شهرت و پولش خوشش آمده بود. \n",
            "\n",
            "برایش روشن شده‌بود که چرا سونیا با او ازدواج کرده‌بود . \n",
            "برایش روشن شده بود که چرا سونیا با او ازدواج کرده بود. \n",
            "\n",
            "سونیا از نظرِ او یک زنِ دورو‌بود . \n",
            "سونیا از نظر او یک زن دورو بود. \n",
            "\n",
            "با اینکه تولستوی تمامِ حقوقِ املاک و دارایی‌هایش را کنار گذاشت ، باز هم مثلِ یک پادشاه زندگی می‌کرد و از سونیا می‌خواست برای عادت‌هایش پول خرج کند . \n",
            "با اینکه تولستوی تمام حقوق املاک و دارایی هایش را کنار گذاشت، باز هم مثل یک پادشاه زندگی می کرد و از سونیا می خواست برای عادت هایش پول خرج کند. \n",
            "\n",
            "تولستوی مثلِ یک روستایی لباس می‌پوشید ، اما اگر بیمار می‌شد ، با یک کالسکهِ خصوصیِ تجملاتی به ویلایی در جنوب می‌رفت تا آرامش بگیرد و به رغمِ اعتقادِ جدیدش به نداشتنِ رابطه ، دست از باردار کردنِ سونیا نمی‌کشید . \n",
            "تولستوی مثل یک روستایی لباس می پوشید، اما اگر بیمار می شد، با یک کالسکۀ خصوصی تجملاتی به ویلایی در جنوب می رفت تا آرامش بگیرد و به رغم اعتقاد جدیدش به نداشتن رابطه، دست از باردار کردن سونیا نمی کشید.\n",
            "\n",
            "تولستوی در آرزویِ یک زندگیِ ساده‌یِ معنوی‌بود و اکنون سونیا تنها مانعِ او در رسیدن به این زندگی‌بود . \n",
            "تولستوی در آرزوی یک زندگی سادۀ معنوی بود و اکنون سونیا تنها مانع او در رسیدن به این زندگی بود. \n",
            "\n",
            "او حضورِ سونیا در آن خانه را سرکوبگرانه می‌دانست . \n",
            "او حضور سونیا در آن خانه را سرکوبگرانه می دانست. \n",
            "\n",
            "تولستوی در نامه‌ای خطاب به سونیا نوشت : \n",
            "تولستوی در نامه ای خطاب به سونیا نوشت: \n",
            "\n",
            "« تو تمامِ اتفاقاتِ زندگیِ مان را به همه چیز به جز یک موضوعِ مهم نسبت دادی و این موضوع این‌بود که تو بی‌آنکه بدانی عاملِ بدبختی و رنج‌هایم هستی . \n",
            "«تو تمام اتفاقات زندگی مان را به همه چیز به جز یک موضوع مهم نسبت دادی و این موضوع این بود که تو بی آنکه بدانی عامل بدبختی و رنج هایم هستی. \n",
            "\n",
            "انگار قرار است تا دمِ مرگ با هم مجادله داشته باشیم . » او کتابِ سوناتِ کرویتسر را از دلِ همین تلخی‌هایِ زندگیِ اش نوشت . \n",
            "انگار قرار است تا دم مرگ با هم مجادله داشته باشیم.» او کتاب سونات کرویتسر را از دل همین تلخی های زندگی اش نوشت. \n",
            "\n",
            "در این کتاب ازدواج و زندگیِ مشترکِ خود را به رشته‌یِ تحریر درآورد و تصویریِ سیاه از سونیا را به خوانندگان ارائه داد . \n",
            "در این کتاب ازدواج و زندگی مشترک خود را به رشتۀ تحریر درآورد و تصویری سیاه از سونیا را به خوانندگان ارائه داد. \n",
            "\n",
            "نتیجه‌یِ این رفتارهایِ تولستوی این شد که سونیا به دیوانگی برسد . \n",
            "نتیجۀ این رفتارهای تولستوی این شد که سونیا به دیوانگی برسد. \n",
            "\n",
            "سرانجام در سالِ 1894 ، این حالات در سونیا شدیدتر شد ، به طوری که به تقلید از یکی از شخصیت‌هایِ رمانِ تولستوی دست به خودکشی زد . \n",
            "سرانجام در سال 1894، این حالات در سونیا شدیدتر شد، به طوری که به تقلید از یکی از شخصیت های رمان تولستوی دست به خودکشی زد. \n",
            "\n",
            "او روزی برفی در سرمایِ زمستان از خانه بیرون رفت تا از فرطِ سرمازدگی بمیرد . \n",
            "او روزی برفی در سرمای زمستان از خانه بیرون رفت تا از فرط سرمازدگی بمیرد. \n",
            "\n",
            "یکی از اعضایِ خانواده با او برخورد کرد و او را به خانه برگرداند . \n",
            "یکی از اعضای خانواده با او برخورد کرد و او را به خانه برگرداند. \n",
            "\n",
            "او دوبار دیگر نیز اقدام به خودکشی کرد ، اما زنده ماند . \n",
            "او دوبار دیگر نیز اقدام به خودکشی کرد، اما زنده ماند.\n",
            "\n",
            "اکنون این الگو تندتر و خشن تر شد . \n",
            "اکنون این الگو تندتر و خشن تر شد. \n",
            "\n",
            "تولستوی هر بار او را آزار می‌داد و او نیز از رویِ بیچارگی کاری عجیب می‌کرد ؛ \n",
            "تولستوی هر بار او را آزار می داد و او نیز از روی بیچارگی کاری عجیب می کرد؛\n",
            "\n",
            "تولستوی کم کم از سردی با سونیا پشیمان شد و از او‌طلب بخشش کرد . \n",
            " تولستوی کم کم از سردی با سونیا پشیمان شد و از او طلب بخشش کرد. \n",
            "\n",
            "او برای جبرانِ رفتارهایش به سونیا لطف‌هایی کرد . \n",
            "او برای جبران رفتارهایش به سونیا لطف هایی کرد. \n",
            "\n",
            "برای مثال ، به خانواده‌یِ اش اجازه داد حقِ التالیف کتاب‌هایش را پس بگیرند . \n",
            "برای مثال، به خانواده اش اجازه داد حق التألیف کتاب هایش را پس بگیرند. \n",
            "\n",
            "سپس رفتارهایِ جدیدی از سونیا دید که از این کرده خود نادم شد . \n",
            "سپس رفتارهای جدیدی از سونیا دید که از این کردۀ خود نادم شد. \n",
            "\n",
            "او دائمِ فرزندانش را علیهِ پدرشان می‌شوراند . \n",
            "او دائم فرزندانش را علیه پدرشان می شوراند. \n",
            "\n",
            "سونیا تولستوی را مجبور کرد که تمامِ یادداشت‌هایش را برای او بخواند و اگر او چیزی را مخفی می‌کرد ، با حیله‌یِ گری از آن‌ها سر در می‌آورد . \n",
            "سونیا تولستوی را مجبور کرد که تمام یادداشت هایش را برای او بخواند و اگر او چیزی را مخفی می کرد، با حیله گری از آن ها سر در می آورد. \n",
            "\n",
            "سونیا مراقبِ کوچک ترین حرکاتِ تولستوی‌بود . \n",
            "سونیا مراقب کوچک ترین حرکات تولستوی بود. \n",
            "\n",
            "تولستوی از فضولی‌های سونیا خسته شده‌بود و گاهی او را بسیار سرزنش می‌کرد و در بسترِ بیماری می‌افتاد و آن وقت سونیا از رفتارهایِ خودش پشیمان می‌شد . \n",
            "تولستوی از فضولی های سونیا خسته شده بود و گاهی او را بسیار سرزنش می کرد و در بستر بیماری می افتاد و آن وقت سونیا از رفتارهای خودش پشیمان می شد. \n",
            "\n",
            "چه چیز آن دو نفر را کنارِ هم نگه داشته‌بود ؟ هر یک در پی گرفتنِ توجه و عشق یکدیگر‌بودند ، اما نیل به این هدفِ دیگر محال به نظر می‌رسید . \n",
            "چه چیز آن دو نفر را کنار هم نگه داشته بود؟ هر یک در پی گرفتن توجه و عشق یکدیگر بودند، اما نیل به این هدف دیگر محال به نظر می رسید.\n",
            "\n",
            "پس از سال‌ها درد و رنج در اواخرِ اکتبرِ 1910 ، سرانجام کارد به استخوان‌یِ تولستوی رسید . \n",
            "پس از سال ها درد و رنج در اواخر اکتبر 1910، سرانجام کارد به استخوان تولستوی رسید. \n",
            "\n",
            "او در نیمه‌یِ شب به کمکِ دوستِ پزشکش وسایلش را از خانه‌یِ دزدید و تصمیم گرفت سونیا را برای همیشه ترک کند . \n",
            "او در نیمه شب به کمک دوست پزشکش وسایلش را از خانه دزدید و تصمیم گرفت سونیا را برای همیشه ترک کند. \n",
            "\n",
            "او تمامِ آن شب از ترس اینکه سونیا متوجه شود ، می‌لرزید ، اما درهرصورت سوارِ قطار از همسرش دور شد . \n",
            "او تمام آن شب از ترس اینکه سونیا متوجه شود، می لرزید، اما درهرصورت سوار قطار از همسرش دور شد. \n",
            "\n",
            "وقتی سونیا باخبر شد ، دوباره دست به خودکشی زد و خودش را در استخری که نزدیکِ خانه‌بود ، انداخت ؛ \n",
            "وقتی سونیا باخبر شد، دوباره دست به خودکشی زد و خودش را در استخری که نزدیک خانه بود، انداخت؛\n",
            "\n",
            "اما دوباره نجات یافت . \n",
            " اما دوباره نجات یافت. \n",
            "\n",
            "سپس به تولستوی نامه‌ای نوشت و از او خواهش کرد که برگردد . \n",
            "سپس به تولستوی نامه ای نوشت و از او خواهش کرد که برگردد. \n",
            "\n",
            "سونیا قول داد که رفتارش را تغییر خواهد داد ، دست از تجملات خواهد کشید و عارفانه زندگی خواهد کرد . \n",
            "سونیا قول داد که رفتارش را تغییر خواهد داد، دست از تجملات خواهد کشید و عارفانه زندگی خواهد کرد. \n",
            "\n",
            "او قول داد که تولستوی را بی‌قیدوشرط دوست داشته باشد ؛ \n",
            "او قول داد که تولستوی را بی قیدوشرط دوست داشته باشد؛\n",
            "\n",
            "زیرا زندگی بدونِ او برایش دشوار است . \n",
            " زیرا زندگی بدون او برایش دشوار است.\n",
            "\n",
            "برای تولستوی این زندگی آزادانه‌یِ کوتاه‌بود . \n",
            "برای تولستوی این زندگی آزادانه کوتاه بود. \n",
            "\n",
            "به زودی روزنامه‌ها مقالاتی درباره‌یِ فرارِ تولستوی از دستِ همسرش نوشتند . \n",
            "به زودی روزنامه ها مقالاتی دربارۀ فرار تولستوی از دست همسرش نوشتند. \n",
            "\n",
            "قطار در هر جا که می‌ایستاد ، طرفداران ، گزارشگران و مردم کنجکاو دورِ او را می‌گرفتند . \n",
            "قطار در هر جا که می ایستاد، طرفداران، گزارشگران و مردم کنجکاو دور او را می گرفتند. \n",
            "\n",
            "او به زودی به حدِ مرگِ بیمار شد و ناچار به کلبه‌ای نزدیکِ خطوطِ راهِ آهن در روستایی دورافتاده منتقل شد . \n",
            "او به زودی به حد مرگ بیمار شد و ناچار به کلبه ای نزدیک خطوط راه آهن در روستایی دورافتاده منتقل شد. \n",
            "\n",
            "وضعیتِ او نشان از مرگ داشت . \n",
            "وضعیت او نشان از مرگ داشت. \n",
            "\n",
            "او شنید که سونیا به شهر رسیده است ، اما حتی فکرِ دیدنِ او نیز برایش غیرقابلِ تحمل‌بود . \n",
            "او شنید که سونیا به شهر رسیده است، اما حتی فکر دیدن او نیز برایش غیرقابل تحمل بود. \n",
            "\n",
            "خانواده‌یِ سونیا را بیرون از کلبه نگه داشتند و او فقط از پنجره‌یِ شیشه‌ایِ یواشکی تولستوی را می‌دید . \n",
            "خانواده سونیا را بیرون از کلبه نگه داشتند و او فقط از پنجرۀ شیشه ای یواشکی تولستوی را می دید. \n",
            "\n",
            "وقتی سرانجام تولستوی بیهوش شد ، او اجازه‌یِ ورود یافت . \n",
            "وقتی سرانجام تولستوی بیهوش شد، او اجازۀ ورود یافت. \n",
            "\n",
            "سونیا نزدیکِ تولستوی زانو زد ، مدام به پیشانیِ او بوسه زد و در گوشش زمزمه کرد : \n",
            "سونیا نزدیک تولستوی زانو زد، مدام به پیشانی او بوسه  زد و در گوشش زمزمه کرد: \n",
            "\n",
            "« مرا ببخش . \n",
            "«مرا ببخش. \n",
            "\n",
            "لطفا مرا ببخش . » تولستوی مدتِ کوتاهی پس از آن فوت کرد . \n",
            "لطفاً مرا ببخش.» تولستوی مدت کوتاهی پس از آن فوت کرد. \n",
            "\n",
            "یک ماه بعد ، فردی که از خانه‌یِ تولستوی بازدید کرده‌بود ، این کلمات را از سونیا شنید و نقل کرد : \n",
            "یک ماه بعد، فردی که از خانۀ تولستوی بازدید کرده بود، این کلمات را از سونیا شنید و نقل کرد: \n",
            "\n",
            "« بر سرِ من چه آمد ؟ این چه بلایی‌بود ؟ چطور توانستم این کار را انجام دهم ؟ می‌دانی من او را کشتم . » \n",
            "«بر سر من چه آمد؟ این چه بلایی بود؟ چطور توانستم این کار را انجام دهم؟ می دانی من او را کُشتم.»\n",
            "\n",
            "تفسیر : \n",
            "تفسیر: \n",
            "\n",
            "لئو تولستوی تمامِ نشانه‌هایِ خودشیفتگیِ عمیق را داشت . \n",
            "لئو تولستوی تمام نشانه های خودشیفتگی عمیق را داشت. \n",
            "\n",
            "وقتی دو سالش‌بود ، مادرش را از دست داد و همین مسئله حفره‌ای عمیق در دلش باز کرد و به رغمِ تلاش‌هایِ فراوانش هرگز جایش پر نشد . \n",
            "وقتی دو سالش بود، مادرش را از دست داد و همین مسئله حفره ای عمیق در دلش باز کرد و به رغم تلاش های فراوانش هرگز جایش پر نشد. \n",
            "\n",
            "او در جوانی بی‌پروا‌بود ، گویی این طرزِ رفتار به او حسِ زنده بودن و تکامل می‌بخشید . \n",
            "او در جوانی بی پروا بود، گویی این طرز رفتار به او حس زنده بودن و تکامل می بخشید. \n",
            "\n",
            "او همواره از خودش بیزار‌بود و نمی‌توانست هویتِ واقعیِ خود را بیابد . \n",
            "او همواره از خودش بیزار بود و نمی توانست هویت واقعی خود را بیابد. \n",
            "\n",
            "او این تردید و ناامنی را در رمان‌هایش منعکس کرد و برای شخصیت‌هایی که خلق می‌کرد ، نقش‌هایِ مختلفی قائل می‌شد . \n",
            "او این تردید و ناامنی را در رمان هایش منعکس کرد و برای شخصیت هایی که خلق می کرد، نقش های مختلفی قائل می شد. \n",
            "\n",
            "در پنجاه سالگی نیز سرانجام به خاطرِ همین ازهم پاشیدگیِ هویتی دچارِ بحرانیِ عمیق شد . \n",
            "در پنجاه سالگی نیز سرانجام به خاطر همین ازهم پاشیدگی هویتی دچار بحرانی عمیق شد. \n",
            "\n",
            "سونیا نیز از نظرِ درخودفرورفتگی درجه‌یِ بالایی داشت . \n",
            "سونیا نیز از نظر درخودفرورفتگی درجۀ بالایی داشت. \n",
            "\n",
            "اما ما عادت داریم وقتی دیگران را در نظر می‌گیریم ، بر ویژگی‌هایِ فردیِ آن‌ها متمرکز شویم ، تصویرِ پیچیده‌یِ تری درباره‌یِ اینکه هر طرف در یک رابطه‌یِ چگونه فرد مقابل را شکل می‌دهد ، نادیده بگیریم . \n",
            "اما ما عادت داریم وقتی دیگران را در نظر می گیریم، بر ویژگی های فردی آن ها متمرکز شویم، تصویر پیچیده تری دربارۀ اینکه هر طرف در یک رابطه چگونه فرد مقابل را شکل می دهد، نادیده بگیریم. \n",
            "\n",
            "یک رابطه نیز به خودیِ خود می‌تواند خودشیفته باشد و گرایش‌هایِ خودخواهانه دو طرف را برجسته‌یِ تر کند یا حتی بیرون بکشد . \n",
            "یک رابطه نیز به خودی خود می تواند خودشیفته باشد و گرایش های خودخواهانۀ دو طرف را برجسته تر کند یا حتی بیرون بکشد.\n",
            "\n",
            "به‌طورِ معمول آنچه یک رابطه را خودشیفته می‌کند ، فقدان یا کمبودِ همدلی است که موجب می‌شود دو طرفِ عمیقِ تر از قبل واردِ جبهه‌یِ تدافعی شوند . \n",
            "به طور معمول آنچه یک رابطه را خودشیفته می کند، فقدان یا کمبود همدلی است که موجب می شود دو طرف عمیق تر از قبل وارد جبهۀ تدافعی شوند. \n",
            "\n",
            "در موردِ تولستوی و همسرش این موضوع با خواندنِ دفترچه‌یِ یادداشت آغاز شد . \n",
            "در مورد تولستوی  و همسرش این موضوع با خواندن دفترچۀ یادداشت آغاز شد. \n",
            "\n",
            "هر طرف ارزش‌هایِ متفاوتی داشت که از طریقِ آن به دیگری نگاه می‌کرد . \n",
            "هر طرف ارزش های متفاوتی داشت که از طریق آن به دیگری نگاه می کرد. \n",
            "\n",
            "برای سونیا که در ذهنیتِ خانه‌داری بزرگ شده‌بود ، این کار نشان از پشیمان شدنِ تولستوی از خواستگاری کردنش داشت ؛ \n",
            "برای سونیا که در ذهنیت خانه داری بزرگ شده بود، این کار نشان از پشیمان شدن تولستوی از خواستگاری کردنش داشت؛\n",
            "\n",
            "برای تولستوی که هنرمندی سنتِ شکن‌بود ، واکنشِ سونیا به این معنا‌بود که نمی‌تواند روحیاتِ تولستوی را بفهمد و عشقِ او به شروعِ زندگیِ جدید را درک کند . \n",
            " برای تولستوی که هنرمندی سنت شکن بود، واکنش سونیا به این معنا بود که نمی تواند روحیات تولستوی را بفهمد و عشق او به شروع زندگی جدید را درک کند. \n",
            "\n",
            "آن‌ها با سوئبرداشت از یکدیگر به مواضعی سخت پناه بردند که چهل وهشت سال طول کشید . \n",
            "آن ها با سوءبرداشت از یکدیگر به مواضعی سخت پناه بردند که چهل وهشت سال طول کشید.\n",
            "\n",
            "بحرانِ روحیِ تولستوی همین پویاییِ خودشیفتگی را مجسم می‌کند . \n",
            "بحران روحی تولستوی همین پویایی خودشیفتگی را مجسم می کند. \n",
            "\n",
            "‌ای کاش در همان لحظه آن‌ها یکدیگر را درک و تلاش می‌کردند این رفتارها را از دیدِ طرفِ مقابل ببینند . \n",
            "ای کاش در همان لحظه آن ها یکدیگر را درک و تلاش می کردند این رفتارها را از دید طرف مقابل ببینند. \n",
            "\n",
            "تولستوی می‌توانست به روشنی واکنشِ سونیا را پیش‌بینی کند . \n",
            "تولستوی می توانست به روشنی واکنش سونیا را پیش بینی کند. \n",
            "\n",
            "سونیا در رفاهی نسبی زندگی کرده‌بود و همین رفاه دورانِ مجردی به او کمک کرد که بارداری‌ها و پرورشِ آن همه فرزند را به خوبی مدیریت کند . \n",
            "سونیا در رفاهی نسبی زندگی کرده بود و همین رفاه دوران مجردی به او کمک کرد که بارداری ها و پرورش آن همه فرزند را به خوبی مدیریت کند. \n",
            "\n",
            "او هرگز معنویت و عرفانِ عمیقی نداشت . \n",
            "او هرگز معنویت و عرفان عمیقی نداشت. \n",
            "\n",
            "ارتباط و پیوندِ آن‌ها همیشه بیشتر از اینکهِ روحی باشد ، فیزیکی و جسمی‌بود . \n",
            "ارتباط و پیوند آن ها همیشه بیشتر از اینکه روحی باشد، فیزیکی و جسمی بود. \n",
            "\n",
            "چطور تولستوی انتظار داشت به ناگاه تغییر کند ؟ درخواست‌هایِ تولستوی بیشتر سادیستی‌بود . \n",
            "چطور تولستوی انتظار داشت به ناگاه تغییر کند؟ درخواست های تولستوی بیشتر سادیستی بود. \n",
            "\n",
            "او می‌توانست به سادگی بدونِ درخواست از سونیا خواسته‌یِ خودش را بیان کند و حتی بگوید که موقعیت و نیازهایِ سونیا را درک می‌کند . \n",
            "او می توانست به سادگی بدون درخواست از سونیا خواستۀ خودش را بیان کند و حتی بگوید که موقعیت و نیازهای سونیا را درک می کند. \n",
            "\n",
            "در این صورت سونیا به خودیِ خود به معنویت و عرفانِ درونیِ تولستوی پی می‌برد و سونیا به جایِ مقاومت و تمرکز بر خواسته‌هایِ خودش ، مردی را می‌دید که از خودِ فعلیِ اش ناراضی است و بحرانِ شخصیِ سختی را تجربه می‌کند . \n",
            "در این صورت سونیا به خودی خود به معنویت و عرفان درونی تولستوی پی می برد و سونیا به جای مقاومت و تمرکز بر خواسته های خودش، مردی را می دید که از خود فعلی اش ناراضی است و بحران شخصی سختی را تجربه می کند. \n",
            "\n",
            "آن وقت به احتمالِ زیاد سونیا عشق و حمایتِ خود را نثارش می‌کرد و بدونِ آنکه از تولستوی تبعیت کند ، در این زندگیِ جدید او را آرام می‌کرد . \n",
            "آن وقت به احتمال زیاد سونیا عشق و حمایت خود را نثارش می کرد و بدون آنکه از تولستوی تبعیت کند، در این زندگی جدید او را آرام می کرد.\n",
            "\n",
            "چنین استفاده‌ای از همدلی بر خودشیفتگیِ دوسویه تاثیری متضاد دارد . \n",
            "چنین استفاده ای از همدلی بر خودشیفتگی دوسویه تأثیری متضاد دارد. \n",
            "\n",
            "به این معنا که همدلی از سویِ یک طرف آغاز و موجبِ نرم شدنِ دلِ طرفِ دیگر می‌شود و او را به همدلی کردن دعوت می‌کند . \n",
            "به این معنا که همدلی از سوی یک طرف آغاز و موجب نرم شدن دل طرف دیگر می شود و او را به همدلی کردن دعوت می کند. \n",
            "\n",
            "وقتی طرفِ مقابل به درونِ شما رخنه می‌کند و به خوبی روحیاتِ شما را می‌بیند و درک می‌کند ، دیگر برایتان دشوار است که در موقعیتِ تدافعی بمانید و به سویِ همدلیِ متقابل سوق داده می‌شوید . \n",
            "وقتی طرف مقابل به درون شما رخنه می کند و به خوبی روحیات شما را می بیند و درک می کند، دیگر برایتان دشوار است که در موقعیت تدافعی بمانید و به سوی همدلی متقابل سوق داده می شوید. \n",
            "\n",
            "ماندن در موقعیتِ تدافعی و بدگمانی برای مدتِ طولانی بسیار دشوار است . \n",
            "ماندن در موقعیت تدافعی و بدگمانی برای مدت طولانی بسیار دشوار است.\n",
            "\n",
            "کلید به کارگیریِ همدلیِ درونِ یک رابطه این است که سیستمِ ارزشیِ فردِ دیگر را درک کنید ، زیرا این سیستم قطعا با نظامِ ارزشیِ شما متفاوت است . \n",
            "کلید به کارگیری همدلی درون یک رابطه این است که سیستم ارزشی فرد دیگر را درک کنید، زیرا این سیستم قطعاً با نظام ارزشی شما متفاوت است. \n",
            "\n",
            "آنچه آن‌ها از عشق ، توجه یا سخاوت برداشت می‌کنند با برداشتِ شما متفاوت است . \n",
            "آنچه آن ها از عشق، توجه یا سخاوت برداشت می کنند با برداشت شما متفاوت است. \n",
            "\n",
            "این سیستم‌هایِ ارزشی به‌طورِ معمول در سنینِ کودکی تشکیل می‌شوند و افراد آگاهانهِ آن‌ها را خلق نمی‌کنند . \n",
            "این سیستم های ارزشی به طور معمول در سنین کودکی تشکیل می شوند و افراد آگاهانه آن ها را خلق نمی کنند. \n",
            "\n",
            "به خاطر داشته باشید که این نظامِ ارزشی به شما اجازه می‌دهد در همان لحظه که تمایل دارید دیواره‌یِ دفاعی بکشید ، واردِ روح و دیدگاهِ آن‌ها شوید . \n",
            "به خاطر داشته باشید که این نظام ارزشی به شما اجازه می دهد در همان لحظه که تمایل دارید دیوارۀ دفاعی بکشید، وارد روح و دیدگاه آن ها شوید. \n",
            "\n",
            "حتی افراد عمیقا خودشیفته می‌توانند به همین شیوه از پوسته‌یِ خود بیرون آیند ، زیرا چنین توجهی بسیار نادر است . \n",
            "حتی افراد عمیقاً خودشیفته می توانند به همین شیوه از پوستۀ خود بیرون آیند، زیرا چنین توجهی بسیار نادر است. \n",
            "\n",
            "همواره تمامِ روابطِ خود را بر اساسِ این طیف خودشیفتگی بسنجید . \n",
            "همواره تمام روابط خود را بر اساس این طیف خودشیفتگی بسنجید. \n"
          ]
        }
      ],
      "source": [
        "f = open('sample_text.txt', 'r')\n",
        "for line in f:\n",
        "  print(add_kasre(line))\n",
        "  print(line)\n",
        "  "
      ]
    },
    {
      "cell_type": "code",
      "execution_count": null,
      "metadata": {
        "id": "7qBQmON8W-cn"
      },
      "outputs": [],
      "source": [
        ""
      ]
    },
    {
      "cell_type": "code",
      "execution_count": null,
      "metadata": {
        "colab": {
          "base_uri": "https://localhost:8080/",
          "height": 35
        },
        "id": "KxLf3sfCSl6Q",
        "outputId": "fb492f0c-d770-4a9d-c565-9fb45dc4d62d"
      },
      "outputs": [
        {
          "data": {
            "application/vnd.google.colaboratory.intrinsic+json": {
              "type": "string"
            },
            "text/plain": [
              "'انگار قرار است تا دم مرگ با هم مجادله داشته باشیم !  او کتاب سونات کرویتسر را از دل همین تلخی های زندگی اش نوشت'"
            ]
          },
          "execution_count": 49,
          "metadata": {},
          "output_type": "execute_result"
        }
      ],
      "source": [
        "sent = 'انگار قرار است تا دم مرگ با هم مجادله داشته باشیم! او کتاب سونات کرویتسر را از دل همین تلخی های زندگی اش نوشت'\n",
        "punctuations = r')(}{:؟!،؛»«.' + r\"/<>?.,:;\"\n",
        "punctuations = '[' + punctuations + string.punctuation + ']'\n",
        "sent = re.sub(punctuations, lambda x: ' ' + x.group() + ' ', sent)\n",
        "sent"
      ]
    },
    {
      "cell_type": "code",
      "execution_count": null,
      "metadata": {
        "colab": {
          "base_uri": "https://localhost:8080/",
          "height": 35
        },
        "id": "dzuAbw2ZTa46",
        "outputId": "a6081f52-3c55-4fe9-c086-0e434ab5c418"
      },
      "outputs": [
        {
          "data": {
            "application/vnd.google.colaboratory.intrinsic+json": {
              "type": "string"
            },
            "text/plain": [
              "'\\\\)\\\\(}{:؟،؛»«\\\\./<>?.,:;!'"
            ]
          },
          "execution_count": 44,
          "metadata": {},
          "output_type": "execute_result"
        }
      ],
      "source": [
        "punctuations"
      ]
    },
    {
      "cell_type": "code",
      "execution_count": null,
      "metadata": {
        "id": "WAjC6zXs7UtL"
      },
      "outputs": [],
      "source": [
        "doc = nlp_pos('انگار قرار است تا دم مرگ با هم مجادله داشته باشیم.» او کتاب سونات کرویتسر را از دل همین تلخی های زندگی اش نوشت')"
      ]
    },
    {
      "cell_type": "code",
      "execution_count": null,
      "metadata": {
        "colab": {
          "base_uri": "https://localhost:8080/"
        },
        "id": "NkRzBM6wHu3Y",
        "outputId": "43f14fcb-333b-4d52-9bc9-bc242f128d2d"
      },
      "outputs": [
        {
          "name": "stdout",
          "output_type": "stream",
          "text": [
            "انگار PSUS\n",
            "قرار N_IANM\n",
            "است AUX\n",
            "تا PREP\n",
            "دم N_IANM\n",
            "مرگ N_IANM\n",
            "با PREP\n",
            "هم PR_RECPR\n",
            "مجادله N_IANM\n",
            "داشته V_ACT\n",
            "باشیم AUX\n",
            ". PUNC\n",
            "» PUNC\n",
            "او PR_SEPER\n",
            "کتاب N_IANM\n",
            "سونات N_IANM\n",
            "کرویتسر N_IANM\n",
            "را POSTP\n",
            "از PREP\n",
            "دل N_IANM\n",
            "همین PREM_DEMAJ\n",
            "تلخی N_IANM\n",
            "های N_IANM\n",
            "زندگی N_IANM\n",
            "اش PR_JOPER\n",
            "نوشت V_ACT\n"
          ]
        }
      ],
      "source": [
        "pos = list()\n",
        "for i in range(len(doc.sentences)):\n",
        "  for j in range(len(doc.sentences[i].tokens)):\n",
        "    text = doc.sentences[i].tokens[j].words[0].text\n",
        "    xpos = doc.sentences[i].tokens[j].words[0].xpos\n",
        "    print(text, xpos)\n",
        "    pos.append((text, xpos))"
      ]
    },
    {
      "cell_type": "code",
      "execution_count": null,
      "metadata": {
        "id": "b_ODrcTNBs_v"
      },
      "outputs": [],
      "source": [
        ""
      ]
    }
  ],
  "metadata": {
    "accelerator": "GPU",
    "colab": {
      "collapsed_sections": [],
      "machine_shape": "hm",
      "name": "ezafe_blstm_pytorch.ipynb",
      "provenance": [],
      "authorship_tag": "ABX9TyP166AfhnvubSbROWTnNpwI",
      "include_colab_link": true
    },
    "kernelspec": {
      "display_name": "Python 3",
      "name": "python3"
    },
    "language_info": {
      "name": "python"
    },
    "widgets": {
      "application/vnd.jupyter.widget-state+json": {
        "dbe35029b8b548d3b6be39f6df1a101d": {
          "model_module": "@jupyter-widgets/controls",
          "model_name": "HBoxModel",
          "model_module_version": "1.5.0",
          "state": {
            "_dom_classes": [],
            "_model_module": "@jupyter-widgets/controls",
            "_model_module_version": "1.5.0",
            "_model_name": "HBoxModel",
            "_view_count": null,
            "_view_module": "@jupyter-widgets/controls",
            "_view_module_version": "1.5.0",
            "_view_name": "HBoxView",
            "box_style": "",
            "children": [
              "IPY_MODEL_134d6e02bb774d4ca43bedb2aac47de3",
              "IPY_MODEL_fd9ca95cad574587948880f029ca548b",
              "IPY_MODEL_1964e22bb1b1414085211def637b63c6"
            ],
            "layout": "IPY_MODEL_8e70ac53b8be4bef93cdacc327bfbf28"
          }
        },
        "134d6e02bb774d4ca43bedb2aac47de3": {
          "model_module": "@jupyter-widgets/controls",
          "model_name": "HTMLModel",
          "model_module_version": "1.5.0",
          "state": {
            "_dom_classes": [],
            "_model_module": "@jupyter-widgets/controls",
            "_model_module_version": "1.5.0",
            "_model_name": "HTMLModel",
            "_view_count": null,
            "_view_module": "@jupyter-widgets/controls",
            "_view_module_version": "1.5.0",
            "_view_name": "HTMLView",
            "description": "",
            "description_tooltip": null,
            "layout": "IPY_MODEL_6e52cc6ab8eb4a1d977394875d1ef25e",
            "placeholder": "​",
            "style": "IPY_MODEL_99921afd79c24ca8aea372f01e3134e0",
            "value": "Downloading https://raw.githubusercontent.com/stanfordnlp/stanza-resources/main/resources_1.4.0.json: "
          }
        },
        "fd9ca95cad574587948880f029ca548b": {
          "model_module": "@jupyter-widgets/controls",
          "model_name": "FloatProgressModel",
          "model_module_version": "1.5.0",
          "state": {
            "_dom_classes": [],
            "_model_module": "@jupyter-widgets/controls",
            "_model_module_version": "1.5.0",
            "_model_name": "FloatProgressModel",
            "_view_count": null,
            "_view_module": "@jupyter-widgets/controls",
            "_view_module_version": "1.5.0",
            "_view_name": "ProgressView",
            "bar_style": "success",
            "description": "",
            "description_tooltip": null,
            "layout": "IPY_MODEL_2eb742feb71e49b6b9b7db5ff183b55f",
            "max": 25951,
            "min": 0,
            "orientation": "horizontal",
            "style": "IPY_MODEL_ba1b457323c7449a966759c368e8b5b8",
            "value": 25951
          }
        },
        "1964e22bb1b1414085211def637b63c6": {
          "model_module": "@jupyter-widgets/controls",
          "model_name": "HTMLModel",
          "model_module_version": "1.5.0",
          "state": {
            "_dom_classes": [],
            "_model_module": "@jupyter-widgets/controls",
            "_model_module_version": "1.5.0",
            "_model_name": "HTMLModel",
            "_view_count": null,
            "_view_module": "@jupyter-widgets/controls",
            "_view_module_version": "1.5.0",
            "_view_name": "HTMLView",
            "description": "",
            "description_tooltip": null,
            "layout": "IPY_MODEL_baa3cc94770f43e088fe2fbfcf1e4d90",
            "placeholder": "​",
            "style": "IPY_MODEL_bf3a12fe262c41b8b500b7608a5218b5",
            "value": " 154k/? [00:00&lt;00:00, 5.30MB/s]"
          }
        },
        "8e70ac53b8be4bef93cdacc327bfbf28": {
          "model_module": "@jupyter-widgets/base",
          "model_name": "LayoutModel",
          "model_module_version": "1.2.0",
          "state": {
            "_model_module": "@jupyter-widgets/base",
            "_model_module_version": "1.2.0",
            "_model_name": "LayoutModel",
            "_view_count": null,
            "_view_module": "@jupyter-widgets/base",
            "_view_module_version": "1.2.0",
            "_view_name": "LayoutView",
            "align_content": null,
            "align_items": null,
            "align_self": null,
            "border": null,
            "bottom": null,
            "display": null,
            "flex": null,
            "flex_flow": null,
            "grid_area": null,
            "grid_auto_columns": null,
            "grid_auto_flow": null,
            "grid_auto_rows": null,
            "grid_column": null,
            "grid_gap": null,
            "grid_row": null,
            "grid_template_areas": null,
            "grid_template_columns": null,
            "grid_template_rows": null,
            "height": null,
            "justify_content": null,
            "justify_items": null,
            "left": null,
            "margin": null,
            "max_height": null,
            "max_width": null,
            "min_height": null,
            "min_width": null,
            "object_fit": null,
            "object_position": null,
            "order": null,
            "overflow": null,
            "overflow_x": null,
            "overflow_y": null,
            "padding": null,
            "right": null,
            "top": null,
            "visibility": null,
            "width": null
          }
        },
        "6e52cc6ab8eb4a1d977394875d1ef25e": {
          "model_module": "@jupyter-widgets/base",
          "model_name": "LayoutModel",
          "model_module_version": "1.2.0",
          "state": {
            "_model_module": "@jupyter-widgets/base",
            "_model_module_version": "1.2.0",
            "_model_name": "LayoutModel",
            "_view_count": null,
            "_view_module": "@jupyter-widgets/base",
            "_view_module_version": "1.2.0",
            "_view_name": "LayoutView",
            "align_content": null,
            "align_items": null,
            "align_self": null,
            "border": null,
            "bottom": null,
            "display": null,
            "flex": null,
            "flex_flow": null,
            "grid_area": null,
            "grid_auto_columns": null,
            "grid_auto_flow": null,
            "grid_auto_rows": null,
            "grid_column": null,
            "grid_gap": null,
            "grid_row": null,
            "grid_template_areas": null,
            "grid_template_columns": null,
            "grid_template_rows": null,
            "height": null,
            "justify_content": null,
            "justify_items": null,
            "left": null,
            "margin": null,
            "max_height": null,
            "max_width": null,
            "min_height": null,
            "min_width": null,
            "object_fit": null,
            "object_position": null,
            "order": null,
            "overflow": null,
            "overflow_x": null,
            "overflow_y": null,
            "padding": null,
            "right": null,
            "top": null,
            "visibility": null,
            "width": null
          }
        },
        "99921afd79c24ca8aea372f01e3134e0": {
          "model_module": "@jupyter-widgets/controls",
          "model_name": "DescriptionStyleModel",
          "model_module_version": "1.5.0",
          "state": {
            "_model_module": "@jupyter-widgets/controls",
            "_model_module_version": "1.5.0",
            "_model_name": "DescriptionStyleModel",
            "_view_count": null,
            "_view_module": "@jupyter-widgets/base",
            "_view_module_version": "1.2.0",
            "_view_name": "StyleView",
            "description_width": ""
          }
        },
        "2eb742feb71e49b6b9b7db5ff183b55f": {
          "model_module": "@jupyter-widgets/base",
          "model_name": "LayoutModel",
          "model_module_version": "1.2.0",
          "state": {
            "_model_module": "@jupyter-widgets/base",
            "_model_module_version": "1.2.0",
            "_model_name": "LayoutModel",
            "_view_count": null,
            "_view_module": "@jupyter-widgets/base",
            "_view_module_version": "1.2.0",
            "_view_name": "LayoutView",
            "align_content": null,
            "align_items": null,
            "align_self": null,
            "border": null,
            "bottom": null,
            "display": null,
            "flex": null,
            "flex_flow": null,
            "grid_area": null,
            "grid_auto_columns": null,
            "grid_auto_flow": null,
            "grid_auto_rows": null,
            "grid_column": null,
            "grid_gap": null,
            "grid_row": null,
            "grid_template_areas": null,
            "grid_template_columns": null,
            "grid_template_rows": null,
            "height": null,
            "justify_content": null,
            "justify_items": null,
            "left": null,
            "margin": null,
            "max_height": null,
            "max_width": null,
            "min_height": null,
            "min_width": null,
            "object_fit": null,
            "object_position": null,
            "order": null,
            "overflow": null,
            "overflow_x": null,
            "overflow_y": null,
            "padding": null,
            "right": null,
            "top": null,
            "visibility": null,
            "width": null
          }
        },
        "ba1b457323c7449a966759c368e8b5b8": {
          "model_module": "@jupyter-widgets/controls",
          "model_name": "ProgressStyleModel",
          "model_module_version": "1.5.0",
          "state": {
            "_model_module": "@jupyter-widgets/controls",
            "_model_module_version": "1.5.0",
            "_model_name": "ProgressStyleModel",
            "_view_count": null,
            "_view_module": "@jupyter-widgets/base",
            "_view_module_version": "1.2.0",
            "_view_name": "StyleView",
            "bar_color": null,
            "description_width": ""
          }
        },
        "baa3cc94770f43e088fe2fbfcf1e4d90": {
          "model_module": "@jupyter-widgets/base",
          "model_name": "LayoutModel",
          "model_module_version": "1.2.0",
          "state": {
            "_model_module": "@jupyter-widgets/base",
            "_model_module_version": "1.2.0",
            "_model_name": "LayoutModel",
            "_view_count": null,
            "_view_module": "@jupyter-widgets/base",
            "_view_module_version": "1.2.0",
            "_view_name": "LayoutView",
            "align_content": null,
            "align_items": null,
            "align_self": null,
            "border": null,
            "bottom": null,
            "display": null,
            "flex": null,
            "flex_flow": null,
            "grid_area": null,
            "grid_auto_columns": null,
            "grid_auto_flow": null,
            "grid_auto_rows": null,
            "grid_column": null,
            "grid_gap": null,
            "grid_row": null,
            "grid_template_areas": null,
            "grid_template_columns": null,
            "grid_template_rows": null,
            "height": null,
            "justify_content": null,
            "justify_items": null,
            "left": null,
            "margin": null,
            "max_height": null,
            "max_width": null,
            "min_height": null,
            "min_width": null,
            "object_fit": null,
            "object_position": null,
            "order": null,
            "overflow": null,
            "overflow_x": null,
            "overflow_y": null,
            "padding": null,
            "right": null,
            "top": null,
            "visibility": null,
            "width": null
          }
        },
        "bf3a12fe262c41b8b500b7608a5218b5": {
          "model_module": "@jupyter-widgets/controls",
          "model_name": "DescriptionStyleModel",
          "model_module_version": "1.5.0",
          "state": {
            "_model_module": "@jupyter-widgets/controls",
            "_model_module_version": "1.5.0",
            "_model_name": "DescriptionStyleModel",
            "_view_count": null,
            "_view_module": "@jupyter-widgets/base",
            "_view_module_version": "1.2.0",
            "_view_name": "StyleView",
            "description_width": ""
          }
        },
        "427aa749016c45b882885769a552d67e": {
          "model_module": "@jupyter-widgets/controls",
          "model_name": "HBoxModel",
          "model_module_version": "1.5.0",
          "state": {
            "_dom_classes": [],
            "_model_module": "@jupyter-widgets/controls",
            "_model_module_version": "1.5.0",
            "_model_name": "HBoxModel",
            "_view_count": null,
            "_view_module": "@jupyter-widgets/controls",
            "_view_module_version": "1.5.0",
            "_view_name": "HBoxView",
            "box_style": "",
            "children": [
              "IPY_MODEL_e7b91b41fcc44ceca7959ef6af2f3444",
              "IPY_MODEL_83a42186593d42578324ca402f9a7905",
              "IPY_MODEL_66428ade348649d395006e50f02c135e"
            ],
            "layout": "IPY_MODEL_d863173d00c0433ebae272b4dad99e02"
          }
        },
        "e7b91b41fcc44ceca7959ef6af2f3444": {
          "model_module": "@jupyter-widgets/controls",
          "model_name": "HTMLModel",
          "model_module_version": "1.5.0",
          "state": {
            "_dom_classes": [],
            "_model_module": "@jupyter-widgets/controls",
            "_model_module_version": "1.5.0",
            "_model_name": "HTMLModel",
            "_view_count": null,
            "_view_module": "@jupyter-widgets/controls",
            "_view_module_version": "1.5.0",
            "_view_name": "HTMLView",
            "description": "",
            "description_tooltip": null,
            "layout": "IPY_MODEL_ed290568133f4e7aa0186b97495dfc36",
            "placeholder": "​",
            "style": "IPY_MODEL_af2279ce17d04d3badf20eb9df9b5cac",
            "value": "Downloading https://raw.githubusercontent.com/stanfordnlp/stanza-resources/main/resources_1.4.0.json: "
          }
        },
        "83a42186593d42578324ca402f9a7905": {
          "model_module": "@jupyter-widgets/controls",
          "model_name": "FloatProgressModel",
          "model_module_version": "1.5.0",
          "state": {
            "_dom_classes": [],
            "_model_module": "@jupyter-widgets/controls",
            "_model_module_version": "1.5.0",
            "_model_name": "FloatProgressModel",
            "_view_count": null,
            "_view_module": "@jupyter-widgets/controls",
            "_view_module_version": "1.5.0",
            "_view_name": "ProgressView",
            "bar_style": "success",
            "description": "",
            "description_tooltip": null,
            "layout": "IPY_MODEL_1d3817074af749d19a6b303fdeaf0a18",
            "max": 25999,
            "min": 0,
            "orientation": "horizontal",
            "style": "IPY_MODEL_fc619471a0a54d9dab2b0366287740b9",
            "value": 25999
          }
        },
        "66428ade348649d395006e50f02c135e": {
          "model_module": "@jupyter-widgets/controls",
          "model_name": "HTMLModel",
          "model_module_version": "1.5.0",
          "state": {
            "_dom_classes": [],
            "_model_module": "@jupyter-widgets/controls",
            "_model_module_version": "1.5.0",
            "_model_name": "HTMLModel",
            "_view_count": null,
            "_view_module": "@jupyter-widgets/controls",
            "_view_module_version": "1.5.0",
            "_view_name": "HTMLView",
            "description": "",
            "description_tooltip": null,
            "layout": "IPY_MODEL_0c7a24db29dc4019b2161a95eeb90713",
            "placeholder": "​",
            "style": "IPY_MODEL_7363068dac9a4f018b2e0c6146f0d6ef",
            "value": " 154k/? [00:00&lt;00:00, 4.72MB/s]"
          }
        },
        "d863173d00c0433ebae272b4dad99e02": {
          "model_module": "@jupyter-widgets/base",
          "model_name": "LayoutModel",
          "model_module_version": "1.2.0",
          "state": {
            "_model_module": "@jupyter-widgets/base",
            "_model_module_version": "1.2.0",
            "_model_name": "LayoutModel",
            "_view_count": null,
            "_view_module": "@jupyter-widgets/base",
            "_view_module_version": "1.2.0",
            "_view_name": "LayoutView",
            "align_content": null,
            "align_items": null,
            "align_self": null,
            "border": null,
            "bottom": null,
            "display": null,
            "flex": null,
            "flex_flow": null,
            "grid_area": null,
            "grid_auto_columns": null,
            "grid_auto_flow": null,
            "grid_auto_rows": null,
            "grid_column": null,
            "grid_gap": null,
            "grid_row": null,
            "grid_template_areas": null,
            "grid_template_columns": null,
            "grid_template_rows": null,
            "height": null,
            "justify_content": null,
            "justify_items": null,
            "left": null,
            "margin": null,
            "max_height": null,
            "max_width": null,
            "min_height": null,
            "min_width": null,
            "object_fit": null,
            "object_position": null,
            "order": null,
            "overflow": null,
            "overflow_x": null,
            "overflow_y": null,
            "padding": null,
            "right": null,
            "top": null,
            "visibility": null,
            "width": null
          }
        },
        "ed290568133f4e7aa0186b97495dfc36": {
          "model_module": "@jupyter-widgets/base",
          "model_name": "LayoutModel",
          "model_module_version": "1.2.0",
          "state": {
            "_model_module": "@jupyter-widgets/base",
            "_model_module_version": "1.2.0",
            "_model_name": "LayoutModel",
            "_view_count": null,
            "_view_module": "@jupyter-widgets/base",
            "_view_module_version": "1.2.0",
            "_view_name": "LayoutView",
            "align_content": null,
            "align_items": null,
            "align_self": null,
            "border": null,
            "bottom": null,
            "display": null,
            "flex": null,
            "flex_flow": null,
            "grid_area": null,
            "grid_auto_columns": null,
            "grid_auto_flow": null,
            "grid_auto_rows": null,
            "grid_column": null,
            "grid_gap": null,
            "grid_row": null,
            "grid_template_areas": null,
            "grid_template_columns": null,
            "grid_template_rows": null,
            "height": null,
            "justify_content": null,
            "justify_items": null,
            "left": null,
            "margin": null,
            "max_height": null,
            "max_width": null,
            "min_height": null,
            "min_width": null,
            "object_fit": null,
            "object_position": null,
            "order": null,
            "overflow": null,
            "overflow_x": null,
            "overflow_y": null,
            "padding": null,
            "right": null,
            "top": null,
            "visibility": null,
            "width": null
          }
        },
        "af2279ce17d04d3badf20eb9df9b5cac": {
          "model_module": "@jupyter-widgets/controls",
          "model_name": "DescriptionStyleModel",
          "model_module_version": "1.5.0",
          "state": {
            "_model_module": "@jupyter-widgets/controls",
            "_model_module_version": "1.5.0",
            "_model_name": "DescriptionStyleModel",
            "_view_count": null,
            "_view_module": "@jupyter-widgets/base",
            "_view_module_version": "1.2.0",
            "_view_name": "StyleView",
            "description_width": ""
          }
        },
        "1d3817074af749d19a6b303fdeaf0a18": {
          "model_module": "@jupyter-widgets/base",
          "model_name": "LayoutModel",
          "model_module_version": "1.2.0",
          "state": {
            "_model_module": "@jupyter-widgets/base",
            "_model_module_version": "1.2.0",
            "_model_name": "LayoutModel",
            "_view_count": null,
            "_view_module": "@jupyter-widgets/base",
            "_view_module_version": "1.2.0",
            "_view_name": "LayoutView",
            "align_content": null,
            "align_items": null,
            "align_self": null,
            "border": null,
            "bottom": null,
            "display": null,
            "flex": null,
            "flex_flow": null,
            "grid_area": null,
            "grid_auto_columns": null,
            "grid_auto_flow": null,
            "grid_auto_rows": null,
            "grid_column": null,
            "grid_gap": null,
            "grid_row": null,
            "grid_template_areas": null,
            "grid_template_columns": null,
            "grid_template_rows": null,
            "height": null,
            "justify_content": null,
            "justify_items": null,
            "left": null,
            "margin": null,
            "max_height": null,
            "max_width": null,
            "min_height": null,
            "min_width": null,
            "object_fit": null,
            "object_position": null,
            "order": null,
            "overflow": null,
            "overflow_x": null,
            "overflow_y": null,
            "padding": null,
            "right": null,
            "top": null,
            "visibility": null,
            "width": null
          }
        },
        "fc619471a0a54d9dab2b0366287740b9": {
          "model_module": "@jupyter-widgets/controls",
          "model_name": "ProgressStyleModel",
          "model_module_version": "1.5.0",
          "state": {
            "_model_module": "@jupyter-widgets/controls",
            "_model_module_version": "1.5.0",
            "_model_name": "ProgressStyleModel",
            "_view_count": null,
            "_view_module": "@jupyter-widgets/base",
            "_view_module_version": "1.2.0",
            "_view_name": "StyleView",
            "bar_color": null,
            "description_width": ""
          }
        },
        "0c7a24db29dc4019b2161a95eeb90713": {
          "model_module": "@jupyter-widgets/base",
          "model_name": "LayoutModel",
          "model_module_version": "1.2.0",
          "state": {
            "_model_module": "@jupyter-widgets/base",
            "_model_module_version": "1.2.0",
            "_model_name": "LayoutModel",
            "_view_count": null,
            "_view_module": "@jupyter-widgets/base",
            "_view_module_version": "1.2.0",
            "_view_name": "LayoutView",
            "align_content": null,
            "align_items": null,
            "align_self": null,
            "border": null,
            "bottom": null,
            "display": null,
            "flex": null,
            "flex_flow": null,
            "grid_area": null,
            "grid_auto_columns": null,
            "grid_auto_flow": null,
            "grid_auto_rows": null,
            "grid_column": null,
            "grid_gap": null,
            "grid_row": null,
            "grid_template_areas": null,
            "grid_template_columns": null,
            "grid_template_rows": null,
            "height": null,
            "justify_content": null,
            "justify_items": null,
            "left": null,
            "margin": null,
            "max_height": null,
            "max_width": null,
            "min_height": null,
            "min_width": null,
            "object_fit": null,
            "object_position": null,
            "order": null,
            "overflow": null,
            "overflow_x": null,
            "overflow_y": null,
            "padding": null,
            "right": null,
            "top": null,
            "visibility": null,
            "width": null
          }
        },
        "7363068dac9a4f018b2e0c6146f0d6ef": {
          "model_module": "@jupyter-widgets/controls",
          "model_name": "DescriptionStyleModel",
          "model_module_version": "1.5.0",
          "state": {
            "_model_module": "@jupyter-widgets/controls",
            "_model_module_version": "1.5.0",
            "_model_name": "DescriptionStyleModel",
            "_view_count": null,
            "_view_module": "@jupyter-widgets/base",
            "_view_module_version": "1.2.0",
            "_view_name": "StyleView",
            "description_width": ""
          }
        },
        "d611951266f04fc281113f870d3cac96": {
          "model_module": "@jupyter-widgets/controls",
          "model_name": "HBoxModel",
          "model_module_version": "1.5.0",
          "state": {
            "_dom_classes": [],
            "_model_module": "@jupyter-widgets/controls",
            "_model_module_version": "1.5.0",
            "_model_name": "HBoxModel",
            "_view_count": null,
            "_view_module": "@jupyter-widgets/controls",
            "_view_module_version": "1.5.0",
            "_view_name": "HBoxView",
            "box_style": "",
            "children": [
              "IPY_MODEL_56e97f152b484d6e8bb657c8348c6089",
              "IPY_MODEL_9efdf0cd680b4baea1f30c34a73b5d0b",
              "IPY_MODEL_1095f98d0ad748a284e11dc7cb625fb9"
            ],
            "layout": "IPY_MODEL_90372618d8f0425bb08807c8647f7c66"
          }
        },
        "56e97f152b484d6e8bb657c8348c6089": {
          "model_module": "@jupyter-widgets/controls",
          "model_name": "HTMLModel",
          "model_module_version": "1.5.0",
          "state": {
            "_dom_classes": [],
            "_model_module": "@jupyter-widgets/controls",
            "_model_module_version": "1.5.0",
            "_model_name": "HTMLModel",
            "_view_count": null,
            "_view_module": "@jupyter-widgets/controls",
            "_view_module_version": "1.5.0",
            "_view_name": "HTMLView",
            "description": "",
            "description_tooltip": null,
            "layout": "IPY_MODEL_5ad77ee0645847e594c499811854ced6",
            "placeholder": "​",
            "style": "IPY_MODEL_cfe0777b9c7d4e4f89d1c4a4a0686386",
            "value": "Downloading https://huggingface.co/stanfordnlp/stanza-fa/resolve/v1.4.0/models/default.zip: 100%"
          }
        },
        "9efdf0cd680b4baea1f30c34a73b5d0b": {
          "model_module": "@jupyter-widgets/controls",
          "model_name": "FloatProgressModel",
          "model_module_version": "1.5.0",
          "state": {
            "_dom_classes": [],
            "_model_module": "@jupyter-widgets/controls",
            "_model_module_version": "1.5.0",
            "_model_name": "FloatProgressModel",
            "_view_count": null,
            "_view_module": "@jupyter-widgets/controls",
            "_view_module_version": "1.5.0",
            "_view_name": "ProgressView",
            "bar_style": "success",
            "description": "",
            "description_tooltip": null,
            "layout": "IPY_MODEL_daa2010b1d594ff0b17c5a88a40c6703",
            "max": 380382012,
            "min": 0,
            "orientation": "horizontal",
            "style": "IPY_MODEL_bcbea0bce08c43789829628da228d9c8",
            "value": 380382012
          }
        },
        "1095f98d0ad748a284e11dc7cb625fb9": {
          "model_module": "@jupyter-widgets/controls",
          "model_name": "HTMLModel",
          "model_module_version": "1.5.0",
          "state": {
            "_dom_classes": [],
            "_model_module": "@jupyter-widgets/controls",
            "_model_module_version": "1.5.0",
            "_model_name": "HTMLModel",
            "_view_count": null,
            "_view_module": "@jupyter-widgets/controls",
            "_view_module_version": "1.5.0",
            "_view_name": "HTMLView",
            "description": "",
            "description_tooltip": null,
            "layout": "IPY_MODEL_7a4248b3958448ffa8bf044db9ee37fc",
            "placeholder": "​",
            "style": "IPY_MODEL_cee15d201fc94a6da98b34ee04ad388b",
            "value": " 380M/380M [00:17&lt;00:00, 10.3MB/s]"
          }
        },
        "90372618d8f0425bb08807c8647f7c66": {
          "model_module": "@jupyter-widgets/base",
          "model_name": "LayoutModel",
          "model_module_version": "1.2.0",
          "state": {
            "_model_module": "@jupyter-widgets/base",
            "_model_module_version": "1.2.0",
            "_model_name": "LayoutModel",
            "_view_count": null,
            "_view_module": "@jupyter-widgets/base",
            "_view_module_version": "1.2.0",
            "_view_name": "LayoutView",
            "align_content": null,
            "align_items": null,
            "align_self": null,
            "border": null,
            "bottom": null,
            "display": null,
            "flex": null,
            "flex_flow": null,
            "grid_area": null,
            "grid_auto_columns": null,
            "grid_auto_flow": null,
            "grid_auto_rows": null,
            "grid_column": null,
            "grid_gap": null,
            "grid_row": null,
            "grid_template_areas": null,
            "grid_template_columns": null,
            "grid_template_rows": null,
            "height": null,
            "justify_content": null,
            "justify_items": null,
            "left": null,
            "margin": null,
            "max_height": null,
            "max_width": null,
            "min_height": null,
            "min_width": null,
            "object_fit": null,
            "object_position": null,
            "order": null,
            "overflow": null,
            "overflow_x": null,
            "overflow_y": null,
            "padding": null,
            "right": null,
            "top": null,
            "visibility": null,
            "width": null
          }
        },
        "5ad77ee0645847e594c499811854ced6": {
          "model_module": "@jupyter-widgets/base",
          "model_name": "LayoutModel",
          "model_module_version": "1.2.0",
          "state": {
            "_model_module": "@jupyter-widgets/base",
            "_model_module_version": "1.2.0",
            "_model_name": "LayoutModel",
            "_view_count": null,
            "_view_module": "@jupyter-widgets/base",
            "_view_module_version": "1.2.0",
            "_view_name": "LayoutView",
            "align_content": null,
            "align_items": null,
            "align_self": null,
            "border": null,
            "bottom": null,
            "display": null,
            "flex": null,
            "flex_flow": null,
            "grid_area": null,
            "grid_auto_columns": null,
            "grid_auto_flow": null,
            "grid_auto_rows": null,
            "grid_column": null,
            "grid_gap": null,
            "grid_row": null,
            "grid_template_areas": null,
            "grid_template_columns": null,
            "grid_template_rows": null,
            "height": null,
            "justify_content": null,
            "justify_items": null,
            "left": null,
            "margin": null,
            "max_height": null,
            "max_width": null,
            "min_height": null,
            "min_width": null,
            "object_fit": null,
            "object_position": null,
            "order": null,
            "overflow": null,
            "overflow_x": null,
            "overflow_y": null,
            "padding": null,
            "right": null,
            "top": null,
            "visibility": null,
            "width": null
          }
        },
        "cfe0777b9c7d4e4f89d1c4a4a0686386": {
          "model_module": "@jupyter-widgets/controls",
          "model_name": "DescriptionStyleModel",
          "model_module_version": "1.5.0",
          "state": {
            "_model_module": "@jupyter-widgets/controls",
            "_model_module_version": "1.5.0",
            "_model_name": "DescriptionStyleModel",
            "_view_count": null,
            "_view_module": "@jupyter-widgets/base",
            "_view_module_version": "1.2.0",
            "_view_name": "StyleView",
            "description_width": ""
          }
        },
        "daa2010b1d594ff0b17c5a88a40c6703": {
          "model_module": "@jupyter-widgets/base",
          "model_name": "LayoutModel",
          "model_module_version": "1.2.0",
          "state": {
            "_model_module": "@jupyter-widgets/base",
            "_model_module_version": "1.2.0",
            "_model_name": "LayoutModel",
            "_view_count": null,
            "_view_module": "@jupyter-widgets/base",
            "_view_module_version": "1.2.0",
            "_view_name": "LayoutView",
            "align_content": null,
            "align_items": null,
            "align_self": null,
            "border": null,
            "bottom": null,
            "display": null,
            "flex": null,
            "flex_flow": null,
            "grid_area": null,
            "grid_auto_columns": null,
            "grid_auto_flow": null,
            "grid_auto_rows": null,
            "grid_column": null,
            "grid_gap": null,
            "grid_row": null,
            "grid_template_areas": null,
            "grid_template_columns": null,
            "grid_template_rows": null,
            "height": null,
            "justify_content": null,
            "justify_items": null,
            "left": null,
            "margin": null,
            "max_height": null,
            "max_width": null,
            "min_height": null,
            "min_width": null,
            "object_fit": null,
            "object_position": null,
            "order": null,
            "overflow": null,
            "overflow_x": null,
            "overflow_y": null,
            "padding": null,
            "right": null,
            "top": null,
            "visibility": null,
            "width": null
          }
        },
        "bcbea0bce08c43789829628da228d9c8": {
          "model_module": "@jupyter-widgets/controls",
          "model_name": "ProgressStyleModel",
          "model_module_version": "1.5.0",
          "state": {
            "_model_module": "@jupyter-widgets/controls",
            "_model_module_version": "1.5.0",
            "_model_name": "ProgressStyleModel",
            "_view_count": null,
            "_view_module": "@jupyter-widgets/base",
            "_view_module_version": "1.2.0",
            "_view_name": "StyleView",
            "bar_color": null,
            "description_width": ""
          }
        },
        "7a4248b3958448ffa8bf044db9ee37fc": {
          "model_module": "@jupyter-widgets/base",
          "model_name": "LayoutModel",
          "model_module_version": "1.2.0",
          "state": {
            "_model_module": "@jupyter-widgets/base",
            "_model_module_version": "1.2.0",
            "_model_name": "LayoutModel",
            "_view_count": null,
            "_view_module": "@jupyter-widgets/base",
            "_view_module_version": "1.2.0",
            "_view_name": "LayoutView",
            "align_content": null,
            "align_items": null,
            "align_self": null,
            "border": null,
            "bottom": null,
            "display": null,
            "flex": null,
            "flex_flow": null,
            "grid_area": null,
            "grid_auto_columns": null,
            "grid_auto_flow": null,
            "grid_auto_rows": null,
            "grid_column": null,
            "grid_gap": null,
            "grid_row": null,
            "grid_template_areas": null,
            "grid_template_columns": null,
            "grid_template_rows": null,
            "height": null,
            "justify_content": null,
            "justify_items": null,
            "left": null,
            "margin": null,
            "max_height": null,
            "max_width": null,
            "min_height": null,
            "min_width": null,
            "object_fit": null,
            "object_position": null,
            "order": null,
            "overflow": null,
            "overflow_x": null,
            "overflow_y": null,
            "padding": null,
            "right": null,
            "top": null,
            "visibility": null,
            "width": null
          }
        },
        "cee15d201fc94a6da98b34ee04ad388b": {
          "model_module": "@jupyter-widgets/controls",
          "model_name": "DescriptionStyleModel",
          "model_module_version": "1.5.0",
          "state": {
            "_model_module": "@jupyter-widgets/controls",
            "_model_module_version": "1.5.0",
            "_model_name": "DescriptionStyleModel",
            "_view_count": null,
            "_view_module": "@jupyter-widgets/base",
            "_view_module_version": "1.2.0",
            "_view_name": "StyleView",
            "description_width": ""
          }
        },
        "6b478900e0174a7ca4fd1b47421c80a3": {
          "model_module": "@jupyter-widgets/controls",
          "model_name": "HBoxModel",
          "model_module_version": "1.5.0",
          "state": {
            "_dom_classes": [],
            "_model_module": "@jupyter-widgets/controls",
            "_model_module_version": "1.5.0",
            "_model_name": "HBoxModel",
            "_view_count": null,
            "_view_module": "@jupyter-widgets/controls",
            "_view_module_version": "1.5.0",
            "_view_name": "HBoxView",
            "box_style": "",
            "children": [
              "IPY_MODEL_9d4af82345d9440b90410ef9ec0e0f34",
              "IPY_MODEL_d7f05a9c42ee49a099fd2d3f9aa081a4",
              "IPY_MODEL_2ac31f37f2424b4fb5f38b62a8d88d56"
            ],
            "layout": "IPY_MODEL_14c69295442b4f8296a26af795f53c69"
          }
        },
        "9d4af82345d9440b90410ef9ec0e0f34": {
          "model_module": "@jupyter-widgets/controls",
          "model_name": "HTMLModel",
          "model_module_version": "1.5.0",
          "state": {
            "_dom_classes": [],
            "_model_module": "@jupyter-widgets/controls",
            "_model_module_version": "1.5.0",
            "_model_name": "HTMLModel",
            "_view_count": null,
            "_view_module": "@jupyter-widgets/controls",
            "_view_module_version": "1.5.0",
            "_view_name": "HTMLView",
            "description": "",
            "description_tooltip": null,
            "layout": "IPY_MODEL_dcd4ed08c0ee46d1a97ee59da522364e",
            "placeholder": "​",
            "style": "IPY_MODEL_9380ef7224584db5a30cb14479c86334",
            "value": "Downloading https://raw.githubusercontent.com/stanfordnlp/stanza-resources/main/resources_1.4.0.json: "
          }
        },
        "d7f05a9c42ee49a099fd2d3f9aa081a4": {
          "model_module": "@jupyter-widgets/controls",
          "model_name": "FloatProgressModel",
          "model_module_version": "1.5.0",
          "state": {
            "_dom_classes": [],
            "_model_module": "@jupyter-widgets/controls",
            "_model_module_version": "1.5.0",
            "_model_name": "FloatProgressModel",
            "_view_count": null,
            "_view_module": "@jupyter-widgets/controls",
            "_view_module_version": "1.5.0",
            "_view_name": "ProgressView",
            "bar_style": "success",
            "description": "",
            "description_tooltip": null,
            "layout": "IPY_MODEL_ddf501ce93de40949477274864594079",
            "max": 25999,
            "min": 0,
            "orientation": "horizontal",
            "style": "IPY_MODEL_57896f66aa5144a9b063455e87629c95",
            "value": 25999
          }
        },
        "2ac31f37f2424b4fb5f38b62a8d88d56": {
          "model_module": "@jupyter-widgets/controls",
          "model_name": "HTMLModel",
          "model_module_version": "1.5.0",
          "state": {
            "_dom_classes": [],
            "_model_module": "@jupyter-widgets/controls",
            "_model_module_version": "1.5.0",
            "_model_name": "HTMLModel",
            "_view_count": null,
            "_view_module": "@jupyter-widgets/controls",
            "_view_module_version": "1.5.0",
            "_view_name": "HTMLView",
            "description": "",
            "description_tooltip": null,
            "layout": "IPY_MODEL_5d672bf2d4cd4c4598b5cd8fbe719432",
            "placeholder": "​",
            "style": "IPY_MODEL_745b06897b9b4d948abab67c0e36ef6d",
            "value": " 154k/? [00:00&lt;00:00, 5.01MB/s]"
          }
        },
        "14c69295442b4f8296a26af795f53c69": {
          "model_module": "@jupyter-widgets/base",
          "model_name": "LayoutModel",
          "model_module_version": "1.2.0",
          "state": {
            "_model_module": "@jupyter-widgets/base",
            "_model_module_version": "1.2.0",
            "_model_name": "LayoutModel",
            "_view_count": null,
            "_view_module": "@jupyter-widgets/base",
            "_view_module_version": "1.2.0",
            "_view_name": "LayoutView",
            "align_content": null,
            "align_items": null,
            "align_self": null,
            "border": null,
            "bottom": null,
            "display": null,
            "flex": null,
            "flex_flow": null,
            "grid_area": null,
            "grid_auto_columns": null,
            "grid_auto_flow": null,
            "grid_auto_rows": null,
            "grid_column": null,
            "grid_gap": null,
            "grid_row": null,
            "grid_template_areas": null,
            "grid_template_columns": null,
            "grid_template_rows": null,
            "height": null,
            "justify_content": null,
            "justify_items": null,
            "left": null,
            "margin": null,
            "max_height": null,
            "max_width": null,
            "min_height": null,
            "min_width": null,
            "object_fit": null,
            "object_position": null,
            "order": null,
            "overflow": null,
            "overflow_x": null,
            "overflow_y": null,
            "padding": null,
            "right": null,
            "top": null,
            "visibility": null,
            "width": null
          }
        },
        "dcd4ed08c0ee46d1a97ee59da522364e": {
          "model_module": "@jupyter-widgets/base",
          "model_name": "LayoutModel",
          "model_module_version": "1.2.0",
          "state": {
            "_model_module": "@jupyter-widgets/base",
            "_model_module_version": "1.2.0",
            "_model_name": "LayoutModel",
            "_view_count": null,
            "_view_module": "@jupyter-widgets/base",
            "_view_module_version": "1.2.0",
            "_view_name": "LayoutView",
            "align_content": null,
            "align_items": null,
            "align_self": null,
            "border": null,
            "bottom": null,
            "display": null,
            "flex": null,
            "flex_flow": null,
            "grid_area": null,
            "grid_auto_columns": null,
            "grid_auto_flow": null,
            "grid_auto_rows": null,
            "grid_column": null,
            "grid_gap": null,
            "grid_row": null,
            "grid_template_areas": null,
            "grid_template_columns": null,
            "grid_template_rows": null,
            "height": null,
            "justify_content": null,
            "justify_items": null,
            "left": null,
            "margin": null,
            "max_height": null,
            "max_width": null,
            "min_height": null,
            "min_width": null,
            "object_fit": null,
            "object_position": null,
            "order": null,
            "overflow": null,
            "overflow_x": null,
            "overflow_y": null,
            "padding": null,
            "right": null,
            "top": null,
            "visibility": null,
            "width": null
          }
        },
        "9380ef7224584db5a30cb14479c86334": {
          "model_module": "@jupyter-widgets/controls",
          "model_name": "DescriptionStyleModel",
          "model_module_version": "1.5.0",
          "state": {
            "_model_module": "@jupyter-widgets/controls",
            "_model_module_version": "1.5.0",
            "_model_name": "DescriptionStyleModel",
            "_view_count": null,
            "_view_module": "@jupyter-widgets/base",
            "_view_module_version": "1.2.0",
            "_view_name": "StyleView",
            "description_width": ""
          }
        },
        "ddf501ce93de40949477274864594079": {
          "model_module": "@jupyter-widgets/base",
          "model_name": "LayoutModel",
          "model_module_version": "1.2.0",
          "state": {
            "_model_module": "@jupyter-widgets/base",
            "_model_module_version": "1.2.0",
            "_model_name": "LayoutModel",
            "_view_count": null,
            "_view_module": "@jupyter-widgets/base",
            "_view_module_version": "1.2.0",
            "_view_name": "LayoutView",
            "align_content": null,
            "align_items": null,
            "align_self": null,
            "border": null,
            "bottom": null,
            "display": null,
            "flex": null,
            "flex_flow": null,
            "grid_area": null,
            "grid_auto_columns": null,
            "grid_auto_flow": null,
            "grid_auto_rows": null,
            "grid_column": null,
            "grid_gap": null,
            "grid_row": null,
            "grid_template_areas": null,
            "grid_template_columns": null,
            "grid_template_rows": null,
            "height": null,
            "justify_content": null,
            "justify_items": null,
            "left": null,
            "margin": null,
            "max_height": null,
            "max_width": null,
            "min_height": null,
            "min_width": null,
            "object_fit": null,
            "object_position": null,
            "order": null,
            "overflow": null,
            "overflow_x": null,
            "overflow_y": null,
            "padding": null,
            "right": null,
            "top": null,
            "visibility": null,
            "width": null
          }
        },
        "57896f66aa5144a9b063455e87629c95": {
          "model_module": "@jupyter-widgets/controls",
          "model_name": "ProgressStyleModel",
          "model_module_version": "1.5.0",
          "state": {
            "_model_module": "@jupyter-widgets/controls",
            "_model_module_version": "1.5.0",
            "_model_name": "ProgressStyleModel",
            "_view_count": null,
            "_view_module": "@jupyter-widgets/base",
            "_view_module_version": "1.2.0",
            "_view_name": "StyleView",
            "bar_color": null,
            "description_width": ""
          }
        },
        "5d672bf2d4cd4c4598b5cd8fbe719432": {
          "model_module": "@jupyter-widgets/base",
          "model_name": "LayoutModel",
          "model_module_version": "1.2.0",
          "state": {
            "_model_module": "@jupyter-widgets/base",
            "_model_module_version": "1.2.0",
            "_model_name": "LayoutModel",
            "_view_count": null,
            "_view_module": "@jupyter-widgets/base",
            "_view_module_version": "1.2.0",
            "_view_name": "LayoutView",
            "align_content": null,
            "align_items": null,
            "align_self": null,
            "border": null,
            "bottom": null,
            "display": null,
            "flex": null,
            "flex_flow": null,
            "grid_area": null,
            "grid_auto_columns": null,
            "grid_auto_flow": null,
            "grid_auto_rows": null,
            "grid_column": null,
            "grid_gap": null,
            "grid_row": null,
            "grid_template_areas": null,
            "grid_template_columns": null,
            "grid_template_rows": null,
            "height": null,
            "justify_content": null,
            "justify_items": null,
            "left": null,
            "margin": null,
            "max_height": null,
            "max_width": null,
            "min_height": null,
            "min_width": null,
            "object_fit": null,
            "object_position": null,
            "order": null,
            "overflow": null,
            "overflow_x": null,
            "overflow_y": null,
            "padding": null,
            "right": null,
            "top": null,
            "visibility": null,
            "width": null
          }
        },
        "745b06897b9b4d948abab67c0e36ef6d": {
          "model_module": "@jupyter-widgets/controls",
          "model_name": "DescriptionStyleModel",
          "model_module_version": "1.5.0",
          "state": {
            "_model_module": "@jupyter-widgets/controls",
            "_model_module_version": "1.5.0",
            "_model_name": "DescriptionStyleModel",
            "_view_count": null,
            "_view_module": "@jupyter-widgets/base",
            "_view_module_version": "1.2.0",
            "_view_name": "StyleView",
            "description_width": ""
          }
        },
        "b176d07889fd4d7c962ecab4cd18ef4d": {
          "model_module": "@jupyter-widgets/controls",
          "model_name": "HBoxModel",
          "model_module_version": "1.5.0",
          "state": {
            "_dom_classes": [],
            "_model_module": "@jupyter-widgets/controls",
            "_model_module_version": "1.5.0",
            "_model_name": "HBoxModel",
            "_view_count": null,
            "_view_module": "@jupyter-widgets/controls",
            "_view_module_version": "1.5.0",
            "_view_name": "HBoxView",
            "box_style": "",
            "children": [
              "IPY_MODEL_c3783ace9034458391cef5811f5faf09",
              "IPY_MODEL_9d9d551b2a7b4a82b4a063f09f79752e",
              "IPY_MODEL_88d1197559d1420db06e6a87fe6fef77"
            ],
            "layout": "IPY_MODEL_8815e4ef49014127971a0036d013142f"
          }
        },
        "c3783ace9034458391cef5811f5faf09": {
          "model_module": "@jupyter-widgets/controls",
          "model_name": "HTMLModel",
          "model_module_version": "1.5.0",
          "state": {
            "_dom_classes": [],
            "_model_module": "@jupyter-widgets/controls",
            "_model_module_version": "1.5.0",
            "_model_name": "HTMLModel",
            "_view_count": null,
            "_view_module": "@jupyter-widgets/controls",
            "_view_module_version": "1.5.0",
            "_view_name": "HTMLView",
            "description": "",
            "description_tooltip": null,
            "layout": "IPY_MODEL_4aa8b94a89cc429386a631a376b42ce8",
            "placeholder": "​",
            "style": "IPY_MODEL_2bc53226e3154fa184fa45ed2205b4aa",
            "value": "Downloading https://raw.githubusercontent.com/stanfordnlp/stanza-resources/main/resources_1.4.0.json: "
          }
        },
        "9d9d551b2a7b4a82b4a063f09f79752e": {
          "model_module": "@jupyter-widgets/controls",
          "model_name": "FloatProgressModel",
          "model_module_version": "1.5.0",
          "state": {
            "_dom_classes": [],
            "_model_module": "@jupyter-widgets/controls",
            "_model_module_version": "1.5.0",
            "_model_name": "FloatProgressModel",
            "_view_count": null,
            "_view_module": "@jupyter-widgets/controls",
            "_view_module_version": "1.5.0",
            "_view_name": "ProgressView",
            "bar_style": "success",
            "description": "",
            "description_tooltip": null,
            "layout": "IPY_MODEL_835c18f791304f549aff72efbe7f589e",
            "max": 25999,
            "min": 0,
            "orientation": "horizontal",
            "style": "IPY_MODEL_d54faa8365ed42b887f87eb3fef5c910",
            "value": 25999
          }
        },
        "88d1197559d1420db06e6a87fe6fef77": {
          "model_module": "@jupyter-widgets/controls",
          "model_name": "HTMLModel",
          "model_module_version": "1.5.0",
          "state": {
            "_dom_classes": [],
            "_model_module": "@jupyter-widgets/controls",
            "_model_module_version": "1.5.0",
            "_model_name": "HTMLModel",
            "_view_count": null,
            "_view_module": "@jupyter-widgets/controls",
            "_view_module_version": "1.5.0",
            "_view_name": "HTMLView",
            "description": "",
            "description_tooltip": null,
            "layout": "IPY_MODEL_acc182c08ce74734bdc21bc688cf1972",
            "placeholder": "​",
            "style": "IPY_MODEL_98fe1970d77d42f79fcf0d01f2ccf426",
            "value": " 154k/? [00:00&lt;00:00, 4.10MB/s]"
          }
        },
        "8815e4ef49014127971a0036d013142f": {
          "model_module": "@jupyter-widgets/base",
          "model_name": "LayoutModel",
          "model_module_version": "1.2.0",
          "state": {
            "_model_module": "@jupyter-widgets/base",
            "_model_module_version": "1.2.0",
            "_model_name": "LayoutModel",
            "_view_count": null,
            "_view_module": "@jupyter-widgets/base",
            "_view_module_version": "1.2.0",
            "_view_name": "LayoutView",
            "align_content": null,
            "align_items": null,
            "align_self": null,
            "border": null,
            "bottom": null,
            "display": null,
            "flex": null,
            "flex_flow": null,
            "grid_area": null,
            "grid_auto_columns": null,
            "grid_auto_flow": null,
            "grid_auto_rows": null,
            "grid_column": null,
            "grid_gap": null,
            "grid_row": null,
            "grid_template_areas": null,
            "grid_template_columns": null,
            "grid_template_rows": null,
            "height": null,
            "justify_content": null,
            "justify_items": null,
            "left": null,
            "margin": null,
            "max_height": null,
            "max_width": null,
            "min_height": null,
            "min_width": null,
            "object_fit": null,
            "object_position": null,
            "order": null,
            "overflow": null,
            "overflow_x": null,
            "overflow_y": null,
            "padding": null,
            "right": null,
            "top": null,
            "visibility": null,
            "width": null
          }
        },
        "4aa8b94a89cc429386a631a376b42ce8": {
          "model_module": "@jupyter-widgets/base",
          "model_name": "LayoutModel",
          "model_module_version": "1.2.0",
          "state": {
            "_model_module": "@jupyter-widgets/base",
            "_model_module_version": "1.2.0",
            "_model_name": "LayoutModel",
            "_view_count": null,
            "_view_module": "@jupyter-widgets/base",
            "_view_module_version": "1.2.0",
            "_view_name": "LayoutView",
            "align_content": null,
            "align_items": null,
            "align_self": null,
            "border": null,
            "bottom": null,
            "display": null,
            "flex": null,
            "flex_flow": null,
            "grid_area": null,
            "grid_auto_columns": null,
            "grid_auto_flow": null,
            "grid_auto_rows": null,
            "grid_column": null,
            "grid_gap": null,
            "grid_row": null,
            "grid_template_areas": null,
            "grid_template_columns": null,
            "grid_template_rows": null,
            "height": null,
            "justify_content": null,
            "justify_items": null,
            "left": null,
            "margin": null,
            "max_height": null,
            "max_width": null,
            "min_height": null,
            "min_width": null,
            "object_fit": null,
            "object_position": null,
            "order": null,
            "overflow": null,
            "overflow_x": null,
            "overflow_y": null,
            "padding": null,
            "right": null,
            "top": null,
            "visibility": null,
            "width": null
          }
        },
        "2bc53226e3154fa184fa45ed2205b4aa": {
          "model_module": "@jupyter-widgets/controls",
          "model_name": "DescriptionStyleModel",
          "model_module_version": "1.5.0",
          "state": {
            "_model_module": "@jupyter-widgets/controls",
            "_model_module_version": "1.5.0",
            "_model_name": "DescriptionStyleModel",
            "_view_count": null,
            "_view_module": "@jupyter-widgets/base",
            "_view_module_version": "1.2.0",
            "_view_name": "StyleView",
            "description_width": ""
          }
        },
        "835c18f791304f549aff72efbe7f589e": {
          "model_module": "@jupyter-widgets/base",
          "model_name": "LayoutModel",
          "model_module_version": "1.2.0",
          "state": {
            "_model_module": "@jupyter-widgets/base",
            "_model_module_version": "1.2.0",
            "_model_name": "LayoutModel",
            "_view_count": null,
            "_view_module": "@jupyter-widgets/base",
            "_view_module_version": "1.2.0",
            "_view_name": "LayoutView",
            "align_content": null,
            "align_items": null,
            "align_self": null,
            "border": null,
            "bottom": null,
            "display": null,
            "flex": null,
            "flex_flow": null,
            "grid_area": null,
            "grid_auto_columns": null,
            "grid_auto_flow": null,
            "grid_auto_rows": null,
            "grid_column": null,
            "grid_gap": null,
            "grid_row": null,
            "grid_template_areas": null,
            "grid_template_columns": null,
            "grid_template_rows": null,
            "height": null,
            "justify_content": null,
            "justify_items": null,
            "left": null,
            "margin": null,
            "max_height": null,
            "max_width": null,
            "min_height": null,
            "min_width": null,
            "object_fit": null,
            "object_position": null,
            "order": null,
            "overflow": null,
            "overflow_x": null,
            "overflow_y": null,
            "padding": null,
            "right": null,
            "top": null,
            "visibility": null,
            "width": null
          }
        },
        "d54faa8365ed42b887f87eb3fef5c910": {
          "model_module": "@jupyter-widgets/controls",
          "model_name": "ProgressStyleModel",
          "model_module_version": "1.5.0",
          "state": {
            "_model_module": "@jupyter-widgets/controls",
            "_model_module_version": "1.5.0",
            "_model_name": "ProgressStyleModel",
            "_view_count": null,
            "_view_module": "@jupyter-widgets/base",
            "_view_module_version": "1.2.0",
            "_view_name": "StyleView",
            "bar_color": null,
            "description_width": ""
          }
        },
        "acc182c08ce74734bdc21bc688cf1972": {
          "model_module": "@jupyter-widgets/base",
          "model_name": "LayoutModel",
          "model_module_version": "1.2.0",
          "state": {
            "_model_module": "@jupyter-widgets/base",
            "_model_module_version": "1.2.0",
            "_model_name": "LayoutModel",
            "_view_count": null,
            "_view_module": "@jupyter-widgets/base",
            "_view_module_version": "1.2.0",
            "_view_name": "LayoutView",
            "align_content": null,
            "align_items": null,
            "align_self": null,
            "border": null,
            "bottom": null,
            "display": null,
            "flex": null,
            "flex_flow": null,
            "grid_area": null,
            "grid_auto_columns": null,
            "grid_auto_flow": null,
            "grid_auto_rows": null,
            "grid_column": null,
            "grid_gap": null,
            "grid_row": null,
            "grid_template_areas": null,
            "grid_template_columns": null,
            "grid_template_rows": null,
            "height": null,
            "justify_content": null,
            "justify_items": null,
            "left": null,
            "margin": null,
            "max_height": null,
            "max_width": null,
            "min_height": null,
            "min_width": null,
            "object_fit": null,
            "object_position": null,
            "order": null,
            "overflow": null,
            "overflow_x": null,
            "overflow_y": null,
            "padding": null,
            "right": null,
            "top": null,
            "visibility": null,
            "width": null
          }
        },
        "98fe1970d77d42f79fcf0d01f2ccf426": {
          "model_module": "@jupyter-widgets/controls",
          "model_name": "DescriptionStyleModel",
          "model_module_version": "1.5.0",
          "state": {
            "_model_module": "@jupyter-widgets/controls",
            "_model_module_version": "1.5.0",
            "_model_name": "DescriptionStyleModel",
            "_view_count": null,
            "_view_module": "@jupyter-widgets/base",
            "_view_module_version": "1.2.0",
            "_view_name": "StyleView",
            "description_width": ""
          }
        }
      }
    }
  },
  "nbformat": 4,
  "nbformat_minor": 0
}